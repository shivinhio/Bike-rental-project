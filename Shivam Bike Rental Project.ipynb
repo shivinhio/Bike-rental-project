{
 "cells": [
  {
   "cell_type": "code",
   "execution_count": 327,
   "metadata": {},
   "outputs": [],
   "source": [
    "#imports\n",
    "import pandas as pd\n",
    "import numpy as np\n",
    "from pandas import Series,DataFrame\n",
    "import matplotlib.pyplot as plt\n",
    "import seaborn as sns\n",
    "from matplotlib import pyplot"
   ]
  },
  {
   "cell_type": "code",
   "execution_count": 328,
   "metadata": {},
   "outputs": [],
   "source": [
    "#reading file\n",
    "df=pd.read_csv(\"C:\\Users\\dear\\Desktop\\day.csv\")"
   ]
  },
  {
   "cell_type": "code",
   "execution_count": 329,
   "metadata": {},
   "outputs": [
    {
     "data": {
      "text/html": [
       "<div>\n",
       "<style scoped>\n",
       "    .dataframe tbody tr th:only-of-type {\n",
       "        vertical-align: middle;\n",
       "    }\n",
       "\n",
       "    .dataframe tbody tr th {\n",
       "        vertical-align: top;\n",
       "    }\n",
       "\n",
       "    .dataframe thead th {\n",
       "        text-align: right;\n",
       "    }\n",
       "</style>\n",
       "<table border=\"1\" class=\"dataframe\">\n",
       "  <thead>\n",
       "    <tr style=\"text-align: right;\">\n",
       "      <th></th>\n",
       "      <th>instant</th>\n",
       "      <th>dteday</th>\n",
       "      <th>season</th>\n",
       "      <th>yr</th>\n",
       "      <th>mnth</th>\n",
       "      <th>holiday</th>\n",
       "      <th>weekday</th>\n",
       "      <th>workingday</th>\n",
       "      <th>weathersit</th>\n",
       "      <th>temp</th>\n",
       "      <th>atemp</th>\n",
       "      <th>hum</th>\n",
       "      <th>windspeed</th>\n",
       "      <th>casual</th>\n",
       "      <th>registered</th>\n",
       "      <th>cnt</th>\n",
       "    </tr>\n",
       "  </thead>\n",
       "  <tbody>\n",
       "    <tr>\n",
       "      <th>0</th>\n",
       "      <td>1</td>\n",
       "      <td>2011-01-01</td>\n",
       "      <td>1</td>\n",
       "      <td>0</td>\n",
       "      <td>1</td>\n",
       "      <td>0</td>\n",
       "      <td>6</td>\n",
       "      <td>0</td>\n",
       "      <td>2</td>\n",
       "      <td>0.344167</td>\n",
       "      <td>0.363625</td>\n",
       "      <td>0.805833</td>\n",
       "      <td>0.160446</td>\n",
       "      <td>331</td>\n",
       "      <td>654</td>\n",
       "      <td>985</td>\n",
       "    </tr>\n",
       "    <tr>\n",
       "      <th>1</th>\n",
       "      <td>2</td>\n",
       "      <td>2011-01-02</td>\n",
       "      <td>1</td>\n",
       "      <td>0</td>\n",
       "      <td>1</td>\n",
       "      <td>0</td>\n",
       "      <td>0</td>\n",
       "      <td>0</td>\n",
       "      <td>2</td>\n",
       "      <td>0.363478</td>\n",
       "      <td>0.353739</td>\n",
       "      <td>0.696087</td>\n",
       "      <td>0.248539</td>\n",
       "      <td>131</td>\n",
       "      <td>670</td>\n",
       "      <td>801</td>\n",
       "    </tr>\n",
       "    <tr>\n",
       "      <th>2</th>\n",
       "      <td>3</td>\n",
       "      <td>2011-01-03</td>\n",
       "      <td>1</td>\n",
       "      <td>0</td>\n",
       "      <td>1</td>\n",
       "      <td>0</td>\n",
       "      <td>1</td>\n",
       "      <td>1</td>\n",
       "      <td>1</td>\n",
       "      <td>0.196364</td>\n",
       "      <td>0.189405</td>\n",
       "      <td>0.437273</td>\n",
       "      <td>0.248309</td>\n",
       "      <td>120</td>\n",
       "      <td>1229</td>\n",
       "      <td>1349</td>\n",
       "    </tr>\n",
       "    <tr>\n",
       "      <th>3</th>\n",
       "      <td>4</td>\n",
       "      <td>2011-01-04</td>\n",
       "      <td>1</td>\n",
       "      <td>0</td>\n",
       "      <td>1</td>\n",
       "      <td>0</td>\n",
       "      <td>2</td>\n",
       "      <td>1</td>\n",
       "      <td>1</td>\n",
       "      <td>0.200000</td>\n",
       "      <td>0.212122</td>\n",
       "      <td>0.590435</td>\n",
       "      <td>0.160296</td>\n",
       "      <td>108</td>\n",
       "      <td>1454</td>\n",
       "      <td>1562</td>\n",
       "    </tr>\n",
       "    <tr>\n",
       "      <th>4</th>\n",
       "      <td>5</td>\n",
       "      <td>2011-01-05</td>\n",
       "      <td>1</td>\n",
       "      <td>0</td>\n",
       "      <td>1</td>\n",
       "      <td>0</td>\n",
       "      <td>3</td>\n",
       "      <td>1</td>\n",
       "      <td>1</td>\n",
       "      <td>0.226957</td>\n",
       "      <td>0.229270</td>\n",
       "      <td>0.436957</td>\n",
       "      <td>0.186900</td>\n",
       "      <td>82</td>\n",
       "      <td>1518</td>\n",
       "      <td>1600</td>\n",
       "    </tr>\n",
       "  </tbody>\n",
       "</table>\n",
       "</div>"
      ],
      "text/plain": [
       "   instant      dteday  season  yr  mnth  holiday  weekday  workingday  \\\n",
       "0        1  2011-01-01       1   0     1        0        6           0   \n",
       "1        2  2011-01-02       1   0     1        0        0           0   \n",
       "2        3  2011-01-03       1   0     1        0        1           1   \n",
       "3        4  2011-01-04       1   0     1        0        2           1   \n",
       "4        5  2011-01-05       1   0     1        0        3           1   \n",
       "\n",
       "   weathersit      temp     atemp       hum  windspeed  casual  registered  \\\n",
       "0           2  0.344167  0.363625  0.805833   0.160446     331         654   \n",
       "1           2  0.363478  0.353739  0.696087   0.248539     131         670   \n",
       "2           1  0.196364  0.189405  0.437273   0.248309     120        1229   \n",
       "3           1  0.200000  0.212122  0.590435   0.160296     108        1454   \n",
       "4           1  0.226957  0.229270  0.436957   0.186900      82        1518   \n",
       "\n",
       "    cnt  \n",
       "0   985  \n",
       "1   801  \n",
       "2  1349  \n",
       "3  1562  \n",
       "4  1600  "
      ]
     },
     "execution_count": 329,
     "metadata": {},
     "output_type": "execute_result"
    }
   ],
   "source": [
    "#getting familiar to data\n",
    "df.head()"
   ]
  },
  {
   "cell_type": "code",
   "execution_count": 330,
   "metadata": {},
   "outputs": [
    {
     "data": {
      "text/plain": [
       "(731, 16)"
      ]
     },
     "execution_count": 330,
     "metadata": {},
     "output_type": "execute_result"
    }
   ],
   "source": [
    "df.shape"
   ]
  },
  {
   "cell_type": "code",
   "execution_count": 331,
   "metadata": {},
   "outputs": [
    {
     "data": {
      "text/plain": [
       "instant         int64\n",
       "dteday         object\n",
       "season          int64\n",
       "yr              int64\n",
       "mnth            int64\n",
       "holiday         int64\n",
       "weekday         int64\n",
       "workingday      int64\n",
       "weathersit      int64\n",
       "temp          float64\n",
       "atemp         float64\n",
       "hum           float64\n",
       "windspeed     float64\n",
       "casual          int64\n",
       "registered      int64\n",
       "cnt             int64\n",
       "dtype: object"
      ]
     },
     "execution_count": 331,
     "metadata": {},
     "output_type": "execute_result"
    }
   ],
   "source": [
    "df.dtypes"
   ]
  },
  {
   "cell_type": "code",
   "execution_count": 332,
   "metadata": {},
   "outputs": [],
   "source": [
    "df['season']=df['season'].astype('category')"
   ]
  },
  {
   "cell_type": "code",
   "execution_count": 333,
   "metadata": {
    "scrolled": true
   },
   "outputs": [
    {
     "data": {
      "text/plain": [
       "instant          int64\n",
       "dteday          object\n",
       "season        category\n",
       "yr               int64\n",
       "mnth             int64\n",
       "holiday          int64\n",
       "weekday          int64\n",
       "workingday       int64\n",
       "weathersit       int64\n",
       "temp           float64\n",
       "atemp          float64\n",
       "hum            float64\n",
       "windspeed      float64\n",
       "casual           int64\n",
       "registered       int64\n",
       "cnt              int64\n",
       "dtype: object"
      ]
     },
     "execution_count": 333,
     "metadata": {},
     "output_type": "execute_result"
    }
   ],
   "source": [
    "df.dtypes"
   ]
  },
  {
   "cell_type": "code",
   "execution_count": 334,
   "metadata": {},
   "outputs": [
    {
     "data": {
      "text/html": [
       "<div>\n",
       "<style scoped>\n",
       "    .dataframe tbody tr th:only-of-type {\n",
       "        vertical-align: middle;\n",
       "    }\n",
       "\n",
       "    .dataframe tbody tr th {\n",
       "        vertical-align: top;\n",
       "    }\n",
       "\n",
       "    .dataframe thead th {\n",
       "        text-align: right;\n",
       "    }\n",
       "</style>\n",
       "<table border=\"1\" class=\"dataframe\">\n",
       "  <thead>\n",
       "    <tr style=\"text-align: right;\">\n",
       "      <th></th>\n",
       "      <th>instant</th>\n",
       "      <th>dteday</th>\n",
       "      <th>season</th>\n",
       "      <th>yr</th>\n",
       "      <th>mnth</th>\n",
       "      <th>holiday</th>\n",
       "      <th>weekday</th>\n",
       "      <th>workingday</th>\n",
       "      <th>weathersit</th>\n",
       "      <th>temp</th>\n",
       "      <th>atemp</th>\n",
       "      <th>hum</th>\n",
       "      <th>windspeed</th>\n",
       "      <th>casual</th>\n",
       "      <th>registered</th>\n",
       "      <th>cnt</th>\n",
       "    </tr>\n",
       "  </thead>\n",
       "  <tbody>\n",
       "    <tr>\n",
       "      <th>0</th>\n",
       "      <td>1</td>\n",
       "      <td>2011-01-01</td>\n",
       "      <td>1</td>\n",
       "      <td>0</td>\n",
       "      <td>1</td>\n",
       "      <td>0</td>\n",
       "      <td>6</td>\n",
       "      <td>0</td>\n",
       "      <td>2</td>\n",
       "      <td>0.344167</td>\n",
       "      <td>0.363625</td>\n",
       "      <td>0.805833</td>\n",
       "      <td>0.160446</td>\n",
       "      <td>331</td>\n",
       "      <td>654</td>\n",
       "      <td>985</td>\n",
       "    </tr>\n",
       "    <tr>\n",
       "      <th>1</th>\n",
       "      <td>2</td>\n",
       "      <td>2011-01-02</td>\n",
       "      <td>1</td>\n",
       "      <td>0</td>\n",
       "      <td>1</td>\n",
       "      <td>0</td>\n",
       "      <td>0</td>\n",
       "      <td>0</td>\n",
       "      <td>2</td>\n",
       "      <td>0.363478</td>\n",
       "      <td>0.353739</td>\n",
       "      <td>0.696087</td>\n",
       "      <td>0.248539</td>\n",
       "      <td>131</td>\n",
       "      <td>670</td>\n",
       "      <td>801</td>\n",
       "    </tr>\n",
       "    <tr>\n",
       "      <th>2</th>\n",
       "      <td>3</td>\n",
       "      <td>2011-01-03</td>\n",
       "      <td>1</td>\n",
       "      <td>0</td>\n",
       "      <td>1</td>\n",
       "      <td>0</td>\n",
       "      <td>1</td>\n",
       "      <td>1</td>\n",
       "      <td>1</td>\n",
       "      <td>0.196364</td>\n",
       "      <td>0.189405</td>\n",
       "      <td>0.437273</td>\n",
       "      <td>0.248309</td>\n",
       "      <td>120</td>\n",
       "      <td>1229</td>\n",
       "      <td>1349</td>\n",
       "    </tr>\n",
       "    <tr>\n",
       "      <th>3</th>\n",
       "      <td>4</td>\n",
       "      <td>2011-01-04</td>\n",
       "      <td>1</td>\n",
       "      <td>0</td>\n",
       "      <td>1</td>\n",
       "      <td>0</td>\n",
       "      <td>2</td>\n",
       "      <td>1</td>\n",
       "      <td>1</td>\n",
       "      <td>0.200000</td>\n",
       "      <td>0.212122</td>\n",
       "      <td>0.590435</td>\n",
       "      <td>0.160296</td>\n",
       "      <td>108</td>\n",
       "      <td>1454</td>\n",
       "      <td>1562</td>\n",
       "    </tr>\n",
       "    <tr>\n",
       "      <th>4</th>\n",
       "      <td>5</td>\n",
       "      <td>2011-01-05</td>\n",
       "      <td>1</td>\n",
       "      <td>0</td>\n",
       "      <td>1</td>\n",
       "      <td>0</td>\n",
       "      <td>3</td>\n",
       "      <td>1</td>\n",
       "      <td>1</td>\n",
       "      <td>0.226957</td>\n",
       "      <td>0.229270</td>\n",
       "      <td>0.436957</td>\n",
       "      <td>0.186900</td>\n",
       "      <td>82</td>\n",
       "      <td>1518</td>\n",
       "      <td>1600</td>\n",
       "    </tr>\n",
       "  </tbody>\n",
       "</table>\n",
       "</div>"
      ],
      "text/plain": [
       "   instant      dteday season  yr  mnth  holiday  weekday  workingday  \\\n",
       "0        1  2011-01-01      1   0     1        0        6           0   \n",
       "1        2  2011-01-02      1   0     1        0        0           0   \n",
       "2        3  2011-01-03      1   0     1        0        1           1   \n",
       "3        4  2011-01-04      1   0     1        0        2           1   \n",
       "4        5  2011-01-05      1   0     1        0        3           1   \n",
       "\n",
       "   weathersit      temp     atemp       hum  windspeed  casual  registered  \\\n",
       "0           2  0.344167  0.363625  0.805833   0.160446     331         654   \n",
       "1           2  0.363478  0.353739  0.696087   0.248539     131         670   \n",
       "2           1  0.196364  0.189405  0.437273   0.248309     120        1229   \n",
       "3           1  0.200000  0.212122  0.590435   0.160296     108        1454   \n",
       "4           1  0.226957  0.229270  0.436957   0.186900      82        1518   \n",
       "\n",
       "    cnt  \n",
       "0   985  \n",
       "1   801  \n",
       "2  1349  \n",
       "3  1562  \n",
       "4  1600  "
      ]
     },
     "execution_count": 334,
     "metadata": {},
     "output_type": "execute_result"
    }
   ],
   "source": [
    "df.head()"
   ]
  },
  {
   "cell_type": "code",
   "execution_count": 335,
   "metadata": {},
   "outputs": [],
   "source": [
    "df=df.drop(['dteday','instant','casual','registered'],axis=1)"
   ]
  },
  {
   "cell_type": "code",
   "execution_count": 336,
   "metadata": {},
   "outputs": [
    {
     "data": {
      "text/plain": [
       "(731, 12)"
      ]
     },
     "execution_count": 336,
     "metadata": {},
     "output_type": "execute_result"
    }
   ],
   "source": [
    "df.shape"
   ]
  },
  {
   "cell_type": "code",
   "execution_count": 337,
   "metadata": {},
   "outputs": [
    {
     "data": {
      "text/plain": [
       "season        0\n",
       "yr            0\n",
       "mnth          0\n",
       "holiday       0\n",
       "weekday       0\n",
       "workingday    0\n",
       "weathersit    0\n",
       "temp          0\n",
       "atemp         0\n",
       "hum           0\n",
       "windspeed     0\n",
       "cnt           0\n",
       "dtype: int64"
      ]
     },
     "execution_count": 337,
     "metadata": {},
     "output_type": "execute_result"
    }
   ],
   "source": [
    "df.isnull().sum().sort_values()"
   ]
  },
  {
   "cell_type": "code",
   "execution_count": 338,
   "metadata": {},
   "outputs": [
    {
     "data": {
      "text/html": [
       "<div>\n",
       "<style scoped>\n",
       "    .dataframe tbody tr th:only-of-type {\n",
       "        vertical-align: middle;\n",
       "    }\n",
       "\n",
       "    .dataframe tbody tr th {\n",
       "        vertical-align: top;\n",
       "    }\n",
       "\n",
       "    .dataframe thead th {\n",
       "        text-align: right;\n",
       "    }\n",
       "</style>\n",
       "<table border=\"1\" class=\"dataframe\">\n",
       "  <thead>\n",
       "    <tr style=\"text-align: right;\">\n",
       "      <th></th>\n",
       "      <th>season</th>\n",
       "      <th>yr</th>\n",
       "      <th>mnth</th>\n",
       "      <th>holiday</th>\n",
       "      <th>weekday</th>\n",
       "      <th>workingday</th>\n",
       "      <th>weathersit</th>\n",
       "      <th>temp</th>\n",
       "      <th>atemp</th>\n",
       "      <th>hum</th>\n",
       "      <th>windspeed</th>\n",
       "      <th>cnt</th>\n",
       "    </tr>\n",
       "  </thead>\n",
       "  <tbody>\n",
       "    <tr>\n",
       "      <th>0</th>\n",
       "      <td>1</td>\n",
       "      <td>0</td>\n",
       "      <td>1</td>\n",
       "      <td>0</td>\n",
       "      <td>6</td>\n",
       "      <td>0</td>\n",
       "      <td>2</td>\n",
       "      <td>0.344167</td>\n",
       "      <td>0.363625</td>\n",
       "      <td>0.805833</td>\n",
       "      <td>0.160446</td>\n",
       "      <td>985</td>\n",
       "    </tr>\n",
       "    <tr>\n",
       "      <th>1</th>\n",
       "      <td>1</td>\n",
       "      <td>0</td>\n",
       "      <td>1</td>\n",
       "      <td>0</td>\n",
       "      <td>0</td>\n",
       "      <td>0</td>\n",
       "      <td>2</td>\n",
       "      <td>0.363478</td>\n",
       "      <td>0.353739</td>\n",
       "      <td>0.696087</td>\n",
       "      <td>0.248539</td>\n",
       "      <td>801</td>\n",
       "    </tr>\n",
       "    <tr>\n",
       "      <th>2</th>\n",
       "      <td>1</td>\n",
       "      <td>0</td>\n",
       "      <td>1</td>\n",
       "      <td>0</td>\n",
       "      <td>1</td>\n",
       "      <td>1</td>\n",
       "      <td>1</td>\n",
       "      <td>0.196364</td>\n",
       "      <td>0.189405</td>\n",
       "      <td>0.437273</td>\n",
       "      <td>0.248309</td>\n",
       "      <td>1349</td>\n",
       "    </tr>\n",
       "  </tbody>\n",
       "</table>\n",
       "</div>"
      ],
      "text/plain": [
       "  season  yr  mnth  holiday  weekday  workingday  weathersit      temp  \\\n",
       "0      1   0     1        0        6           0           2  0.344167   \n",
       "1      1   0     1        0        0           0           2  0.363478   \n",
       "2      1   0     1        0        1           1           1  0.196364   \n",
       "\n",
       "      atemp       hum  windspeed   cnt  \n",
       "0  0.363625  0.805833   0.160446   985  \n",
       "1  0.353739  0.696087   0.248539   801  \n",
       "2  0.189405  0.437273   0.248309  1349  "
      ]
     },
     "execution_count": 338,
     "metadata": {},
     "output_type": "execute_result"
    }
   ],
   "source": [
    "df.head(3)"
   ]
  },
  {
   "cell_type": "code",
   "execution_count": 339,
   "metadata": {
    "scrolled": true
   },
   "outputs": [
    {
     "data": {
      "text/plain": [
       "<matplotlib.axes._subplots.AxesSubplot at 0x17a06490>"
      ]
     },
     "execution_count": 339,
     "metadata": {},
     "output_type": "execute_result"
    },
    {
     "data": {
      "image/png": "[encoded data removed]",
      "text/plain": [
       "<Figure size 432x288 with 1 Axes>"
      ]
     },
     "metadata": {
      "needs_background": "light"
     },
     "output_type": "display_data"
    }
   ],
   "source": [
    "#univariate analysis\n",
    "#continious variable\n",
    "#distribution plots\n",
    "sns.distplot(df['temp'])"
   ]
  },
  {
   "cell_type": "code",
   "execution_count": 340,
   "metadata": {},
   "outputs": [
    {
     "data": {
      "text/plain": [
       "<matplotlib.axes._subplots.AxesSubplot at 0x174e5e70>"
      ]
     },
     "execution_count": 340,
     "metadata": {},
     "output_type": "execute_result"
    },
    {
     "data": {
      "image/png": "[encoded data removed]",
      "text/plain": [
       "<Figure size 432x288 with 1 Axes>"
      ]
     },
     "metadata": {
      "needs_background": "light"
     },
     "output_type": "display_data"
    }
   ],
   "source": [
    "sns.distplot(df['atemp'])"
   ]
  },
  {
   "cell_type": "code",
   "execution_count": 341,
   "metadata": {},
   "outputs": [
    {
     "data": {
      "text/plain": [
       "<matplotlib.axes._subplots.AxesSubplot at 0x17512c90>"
      ]
     },
     "execution_count": 341,
     "metadata": {},
     "output_type": "execute_result"
    },
    {
     "data": {
      "image/png": "[encoded data removed]",
      "text/plain": [
       "<Figure size 432x288 with 1 Axes>"
      ]
     },
     "metadata": {
      "needs_background": "light"
     },
     "output_type": "display_data"
    }
   ],
   "source": [
    "sns.distplot(df['hum'])"
   ]
  },
  {
   "cell_type": "code",
   "execution_count": 342,
   "metadata": {},
   "outputs": [
    {
     "data": {
      "text/plain": [
       "<matplotlib.axes._subplots.AxesSubplot at 0x176f7910>"
      ]
     },
     "execution_count": 342,
     "metadata": {},
     "output_type": "execute_result"
    },
    {
     "data": {
      "image/png": "[encoded data removed]",
      "text/plain": [
       "<Figure size 432x288 with 1 Axes>"
      ]
     },
     "metadata": {
      "needs_background": "light"
     },
     "output_type": "display_data"
    }
   ],
   "source": [
    "sns.distplot(df['windspeed'])"
   ]
  },
  {
   "cell_type": "code",
   "execution_count": 343,
   "metadata": {},
   "outputs": [
    {
     "data": {
      "text/plain": [
       "<matplotlib.axes._subplots.AxesSubplot at 0x17b02590>"
      ]
     },
     "execution_count": 343,
     "metadata": {},
     "output_type": "execute_result"
    },
    {
     "data": {
      "image/png": "[encoded data removed]",
      "text/plain": [
       "<Figure size 432x288 with 1 Axes>"
      ]
     },
     "metadata": {
      "needs_background": "light"
     },
     "output_type": "display_data"
    }
   ],
   "source": [
    "#univariate analysis\n",
    "#classified variables\n",
    "#histograms\n",
    "sns.barplot(x='season',y='cnt',data=df)"
   ]
  },
  {
   "cell_type": "code",
   "execution_count": 344,
   "metadata": {},
   "outputs": [
    {
     "data": {
      "text/plain": [
       "<matplotlib.axes._subplots.AxesSubplot at 0x17c1f550>"
      ]
     },
     "execution_count": 344,
     "metadata": {},
     "output_type": "execute_result"
    },
    {
     "data": {
      "image/png": "[encoded data removed]",
      "text/plain": [
       "<Figure size 432x288 with 1 Axes>"
      ]
     },
     "metadata": {
      "needs_background": "light"
     },
     "output_type": "display_data"
    }
   ],
   "source": [
    "sns.barplot(x='yr',y='cnt',data=df)"
   ]
  },
  {
   "cell_type": "code",
   "execution_count": 345,
   "metadata": {},
   "outputs": [
    {
     "data": {
      "text/plain": [
       "<matplotlib.axes._subplots.AxesSubplot at 0x17cdbeb0>"
      ]
     },
     "execution_count": 345,
     "metadata": {},
     "output_type": "execute_result"
    },
    {
     "data": {
      "image/png": "[encoded data removed]",
      "text/plain": [
       "<Figure size 432x288 with 1 Axes>"
      ]
     },
     "metadata": {
      "needs_background": "light"
     },
     "output_type": "display_data"
    }
   ],
   "source": [
    "sns.barplot(x='mnth',y='cnt',data=df)"
   ]
  },
  {
   "cell_type": "code",
   "execution_count": 346,
   "metadata": {},
   "outputs": [
    {
     "data": {
      "text/plain": [
       "<matplotlib.axes._subplots.AxesSubplot at 0x17ec6e50>"
      ]
     },
     "execution_count": 346,
     "metadata": {},
     "output_type": "execute_result"
    },
    {
     "data": {
      "image/png": "[encoded data removed]",
      "text/plain": [
       "<Figure size 432x288 with 1 Axes>"
      ]
     },
     "metadata": {
      "needs_background": "light"
     },
     "output_type": "display_data"
    }
   ],
   "source": [
    "sns.barplot(x='holiday',y='cnt',data=df)"
   ]
  },
  {
   "cell_type": "code",
   "execution_count": 347,
   "metadata": {},
   "outputs": [
    {
     "data": {
      "text/plain": [
       "<matplotlib.axes._subplots.AxesSubplot at 0x18030a90>"
      ]
     },
     "execution_count": 347,
     "metadata": {},
     "output_type": "execute_result"
    },
    {
     "data": {
      "image/png": "[encoded data removed]",
      "text/plain": [
       "<Figure size 432x288 with 1 Axes>"
      ]
     },
     "metadata": {
      "needs_background": "light"
     },
     "output_type": "display_data"
    }
   ],
   "source": [
    "sns.barplot(x='weekday',y='cnt',data=df)"
   ]
  },
  {
   "cell_type": "code",
   "execution_count": 348,
   "metadata": {},
   "outputs": [
    {
     "data": {
      "text/plain": [
       "<matplotlib.axes._subplots.AxesSubplot at 0x17f42ef0>"
      ]
     },
     "execution_count": 348,
     "metadata": {},
     "output_type": "execute_result"
    },
    {
     "data": {
      "image/png": "[encoded data removed]",
      "text/plain": [
       "<Figure size 432x288 with 1 Axes>"
      ]
     },
     "metadata": {
      "needs_background": "light"
     },
     "output_type": "display_data"
    }
   ],
   "source": [
    "sns.barplot(x='workingday',y='cnt',data=df)"
   ]
  },
  {
   "cell_type": "code",
   "execution_count": 349,
   "metadata": {},
   "outputs": [
    {
     "data": {
      "text/plain": [
       "<matplotlib.axes._subplots.AxesSubplot at 0x1815de90>"
      ]
     },
     "execution_count": 349,
     "metadata": {},
     "output_type": "execute_result"
    },
    {
     "data": {
      "image/png": "[encoded data removed]",
      "text/plain": [
       "<Figure size 432x288 with 1 Axes>"
      ]
     },
     "metadata": {
      "needs_background": "light"
     },
     "output_type": "display_data"
    }
   ],
   "source": [
    "sns.barplot(x='weathersit',y='cnt',data=df)"
   ]
  },
  {
   "cell_type": "code",
   "execution_count": 350,
   "metadata": {},
   "outputs": [
    {
     "data": {
      "text/plain": [
       "<matplotlib.axes._subplots.AxesSubplot at 0x182bcff0>"
      ]
     },
     "execution_count": 350,
     "metadata": {},
     "output_type": "execute_result"
    },
    {
     "data": {
      "image/png": "[encoded data removed]",
      "text/plain": [
       "<Figure size 432x288 with 1 Axes>"
      ]
     },
     "metadata": {
      "needs_background": "light"
     },
     "output_type": "display_data"
    }
   ],
   "source": [
    "#scatter plots\n",
    "df.plot.scatter(x='temp',y='cnt')"
   ]
  },
  {
   "cell_type": "code",
   "execution_count": 351,
   "metadata": {},
   "outputs": [
    {
     "data": {
      "text/plain": [
       "<matplotlib.axes._subplots.AxesSubplot at 0x18394d10>"
      ]
     },
     "execution_count": 351,
     "metadata": {},
     "output_type": "execute_result"
    },
    {
     "data": {
      "image/png": "[encoded data removed]",
      "text/plain": [
       "<Figure size 432x288 with 1 Axes>"
      ]
     },
     "metadata": {
      "needs_background": "light"
     },
     "output_type": "display_data"
    }
   ],
   "source": [
    "df.plot.scatter(x='atemp',y='cnt')"
   ]
  },
  {
   "cell_type": "code",
   "execution_count": 352,
   "metadata": {},
   "outputs": [
    {
     "data": {
      "text/plain": [
       "<matplotlib.axes._subplots.AxesSubplot at 0x184e9f10>"
      ]
     },
     "execution_count": 352,
     "metadata": {},
     "output_type": "execute_result"
    },
    {
     "data": {
      "image/png": "[encoded data removed]",
      "text/plain": [
       "<Figure size 432x288 with 1 Axes>"
      ]
     },
     "metadata": {
      "needs_background": "light"
     },
     "output_type": "display_data"
    }
   ],
   "source": [
    "df.plot.scatter(x='hum',y='cnt')"
   ]
  },
  {
   "cell_type": "code",
   "execution_count": 353,
   "metadata": {},
   "outputs": [
    {
     "data": {
      "text/plain": [
       "<matplotlib.axes._subplots.AxesSubplot at 0x18648cd0>"
      ]
     },
     "execution_count": 353,
     "metadata": {},
     "output_type": "execute_result"
    },
    {
     "data": {
      "image/png": "[encoded data removed]",
      "text/plain": [
       "<Figure size 432x288 with 1 Axes>"
      ]
     },
     "metadata": {
      "needs_background": "light"
     },
     "output_type": "display_data"
    }
   ],
   "source": [
    "df.plot.scatter(x='windspeed',y='cnt')"
   ]
  },
  {
   "cell_type": "code",
   "execution_count": 354,
   "metadata": {},
   "outputs": [
    {
     "data": {
      "text/plain": [
       "<matplotlib.axes._subplots.AxesSubplot at 0x18671510>"
      ]
     },
     "execution_count": 354,
     "metadata": {},
     "output_type": "execute_result"
    },
    {
     "data": {
      "image/png": "[encoded data removed]",
      "text/plain": [
       "<Figure size 432x288 with 1 Axes>"
      ]
     },
     "metadata": {
      "needs_background": "light"
     },
     "output_type": "display_data"
    }
   ],
   "source": [
    "#box plots\n",
    "sns.boxplot(x=df['temp'])"
   ]
  },
  {
   "cell_type": "code",
   "execution_count": 355,
   "metadata": {},
   "outputs": [
    {
     "data": {
      "text/plain": [
       "<matplotlib.axes._subplots.AxesSubplot at 0x18653a90>"
      ]
     },
     "execution_count": 355,
     "metadata": {},
     "output_type": "execute_result"
    },
    {
     "data": {
      "image/png": "[encoded data removed]",
      "text/plain": [
       "<Figure size 432x288 with 1 Axes>"
      ]
     },
     "metadata": {
      "needs_background": "light"
     },
     "output_type": "display_data"
    }
   ],
   "source": [
    "sns.boxplot(x=df['atemp'])"
   ]
  },
  {
   "cell_type": "code",
   "execution_count": 356,
   "metadata": {},
   "outputs": [
    {
     "data": {
      "text/plain": [
       "<matplotlib.axes._subplots.AxesSubplot at 0x18977d50>"
      ]
     },
     "execution_count": 356,
     "metadata": {},
     "output_type": "execute_result"
    },
    {
     "data": {
      "image/png": "[encoded data removed]",
      "text/plain": [
       "<Figure size 432x288 with 1 Axes>"
      ]
     },
     "metadata": {
      "needs_background": "light"
     },
     "output_type": "display_data"
    }
   ],
   "source": [
    "sns.boxplot(x=df['hum'])"
   ]
  },
  {
   "cell_type": "code",
   "execution_count": 357,
   "metadata": {},
   "outputs": [
    {
     "data": {
      "text/plain": [
       "<matplotlib.axes._subplots.AxesSubplot at 0x18a96570>"
      ]
     },
     "execution_count": 357,
     "metadata": {},
     "output_type": "execute_result"
    },
    {
     "data": {
      "image/png": "[encoded data removed]",
      "text/plain": [
       "<Figure size 432x288 with 1 Axes>"
      ]
     },
     "metadata": {
      "needs_background": "light"
     },
     "output_type": "display_data"
    }
   ],
   "source": [
    "sns.boxplot(x=df['windspeed'])"
   ]
  },
  {
   "cell_type": "code",
   "execution_count": 358,
   "metadata": {},
   "outputs": [],
   "source": [
    "#removing quartiles\n",
    "cnames=['hum']"
   ]
  },
  {
   "cell_type": "code",
   "execution_count": 359,
   "metadata": {},
   "outputs": [],
   "source": [
    "for i in cnames:\n",
    "    Q3,Q1=np.percentile(df.loc[:,i],[75,25])\n",
    "    IQR=Q3-Q1"
   ]
  },
  {
   "cell_type": "markdown",
   "metadata": {},
   "source": []
  },
  {
   "cell_type": "code",
   "execution_count": 360,
   "metadata": {},
   "outputs": [],
   "source": [
    "min=Q1-(IQR*1.5)\n",
    "max=Q3+(IQR*1.5)"
   ]
  },
  {
   "cell_type": "code",
   "execution_count": 361,
   "metadata": {},
   "outputs": [
    {
     "data": {
      "text/plain": [
       "0.20468725"
      ]
     },
     "execution_count": 361,
     "metadata": {},
     "output_type": "execute_result"
    }
   ],
   "source": [
    "min"
   ]
  },
  {
   "cell_type": "code",
   "execution_count": 362,
   "metadata": {},
   "outputs": [
    {
     "data": {
      "text/plain": [
       "1.0455212500000002"
      ]
     },
     "execution_count": 362,
     "metadata": {},
     "output_type": "execute_result"
    }
   ],
   "source": [
    "max"
   ]
  },
  {
   "cell_type": "code",
   "execution_count": 363,
   "metadata": {},
   "outputs": [],
   "source": [
    "df_out=df"
   ]
  },
  {
   "cell_type": "code",
   "execution_count": 364,
   "metadata": {},
   "outputs": [],
   "source": [
    "df_out=df_out.drop(df_out[df_out.loc[:,i]<min].index)"
   ]
  },
  {
   "cell_type": "code",
   "execution_count": 365,
   "metadata": {},
   "outputs": [],
   "source": [
    "df_out=df_out.drop(df_out[df_out.loc[:,i]>max].index)"
   ]
  },
  {
   "cell_type": "code",
   "execution_count": 366,
   "metadata": {},
   "outputs": [
    {
     "data": {
      "text/plain": [
       "<matplotlib.axes._subplots.AxesSubplot at 0x18c321f0>"
      ]
     },
     "execution_count": 366,
     "metadata": {},
     "output_type": "execute_result"
    },
    {
     "data": {
      "image/png": "[encoded data removed]",
      "text/plain": [
       "<Figure size 432x288 with 1 Axes>"
      ]
     },
     "metadata": {
      "needs_background": "light"
     },
     "output_type": "display_data"
    }
   ],
   "source": [
    "sns.boxplot(x=df_out['hum'])"
   ]
  },
  {
   "cell_type": "code",
   "execution_count": 367,
   "metadata": {},
   "outputs": [],
   "source": [
    "cnames=['windspeed']"
   ]
  },
  {
   "cell_type": "code",
   "execution_count": 368,
   "metadata": {},
   "outputs": [],
   "source": [
    "for i in cnames:\n",
    "    Q3,Q1=np.percentile(df.loc[:,i],[75,25])\n",
    "    IQR=Q3-Q1"
   ]
  },
  {
   "cell_type": "code",
   "execution_count": 369,
   "metadata": {},
   "outputs": [],
   "source": [
    "min=Q1-(IQR*1.5)\n",
    "max=Q3+(IQR*1.5)"
   ]
  },
  {
   "cell_type": "code",
   "execution_count": 370,
   "metadata": {},
   "outputs": [],
   "source": [
    "df_out=df_out.drop(df_out[df_out.loc[:,i]<min].index)"
   ]
  },
  {
   "cell_type": "code",
   "execution_count": 371,
   "metadata": {},
   "outputs": [],
   "source": [
    "df_out=df_out.drop(df_out[df_out.loc[:,i]>max].index)"
   ]
  },
  {
   "cell_type": "code",
   "execution_count": 372,
   "metadata": {},
   "outputs": [
    {
     "data": {
      "text/plain": [
       "<matplotlib.axes._subplots.AxesSubplot at 0x18861cd0>"
      ]
     },
     "execution_count": 372,
     "metadata": {},
     "output_type": "execute_result"
    },
    {
     "data": {
      "image/png": "[encoded data removed]",
      "text/plain": [
       "<Figure size 432x288 with 1 Axes>"
      ]
     },
     "metadata": {
      "needs_background": "light"
     },
     "output_type": "display_data"
    }
   ],
   "source": [
    "sns.boxplot(x=df_out['windspeed'])"
   ]
  },
  {
   "cell_type": "code",
   "execution_count": 373,
   "metadata": {},
   "outputs": [
    {
     "data": {
      "text/html": [
       "<style  type=\"text/css\" >\n",
       "    #T_6d0f4a30_c986_11e9_a533_80c16e5b4a2crow0_col0 {\n",
       "            background-color:  #b40426;\n",
       "            color:  #f1f1f1;\n",
       "        }    #T_6d0f4a30_c986_11e9_a533_80c16e5b4a2crow0_col1 {\n",
       "            background-color:  #5b7ae5;\n",
       "            color:  #000000;\n",
       "        }    #T_6d0f4a30_c986_11e9_a533_80c16e5b4a2crow0_col2 {\n",
       "            background-color:  #5e7de7;\n",
       "            color:  #000000;\n",
       "        }    #T_6d0f4a30_c986_11e9_a533_80c16e5b4a2crow0_col3 {\n",
       "            background-color:  #5977e3;\n",
       "            color:  #000000;\n",
       "        }    #T_6d0f4a30_c986_11e9_a533_80c16e5b4a2crow0_col4 {\n",
       "            background-color:  #5d7ce6;\n",
       "            color:  #000000;\n",
       "        }    #T_6d0f4a30_c986_11e9_a533_80c16e5b4a2crow0_col5 {\n",
       "            background-color:  #4e68d8;\n",
       "            color:  #000000;\n",
       "        }    #T_6d0f4a30_c986_11e9_a533_80c16e5b4a2crow0_col6 {\n",
       "            background-color:  #6b8df0;\n",
       "            color:  #000000;\n",
       "        }    #T_6d0f4a30_c986_11e9_a533_80c16e5b4a2crow0_col7 {\n",
       "            background-color:  #6b8df0;\n",
       "            color:  #000000;\n",
       "        }    #T_6d0f4a30_c986_11e9_a533_80c16e5b4a2crow0_col8 {\n",
       "            background-color:  #3b4cc0;\n",
       "            color:  #f1f1f1;\n",
       "        }    #T_6d0f4a30_c986_11e9_a533_80c16e5b4a2crow0_col9 {\n",
       "            background-color:  #5470de;\n",
       "            color:  #000000;\n",
       "        }    #T_6d0f4a30_c986_11e9_a533_80c16e5b4a2crow0_col10 {\n",
       "            background-color:  #f4c6af;\n",
       "            color:  #000000;\n",
       "        }    #T_6d0f4a30_c986_11e9_a533_80c16e5b4a2crow1_col0 {\n",
       "            background-color:  #6c8ff1;\n",
       "            color:  #000000;\n",
       "        }    #T_6d0f4a30_c986_11e9_a533_80c16e5b4a2crow1_col1 {\n",
       "            background-color:  #b40426;\n",
       "            color:  #f1f1f1;\n",
       "        }    #T_6d0f4a30_c986_11e9_a533_80c16e5b4a2crow1_col2 {\n",
       "            background-color:  #7295f4;\n",
       "            color:  #000000;\n",
       "        }    #T_6d0f4a30_c986_11e9_a533_80c16e5b4a2crow1_col3 {\n",
       "            background-color:  #6f92f3;\n",
       "            color:  #000000;\n",
       "        }    #T_6d0f4a30_c986_11e9_a533_80c16e5b4a2crow1_col4 {\n",
       "            background-color:  #6c8ff1;\n",
       "            color:  #000000;\n",
       "        }    #T_6d0f4a30_c986_11e9_a533_80c16e5b4a2crow1_col5 {\n",
       "            background-color:  #7a9df8;\n",
       "            color:  #000000;\n",
       "        }    #T_6d0f4a30_c986_11e9_a533_80c16e5b4a2crow1_col6 {\n",
       "            background-color:  #adc9fd;\n",
       "            color:  #000000;\n",
       "        }    #T_6d0f4a30_c986_11e9_a533_80c16e5b4a2crow1_col7 {\n",
       "            background-color:  #afcafc;\n",
       "            color:  #000000;\n",
       "        }    #T_6d0f4a30_c986_11e9_a533_80c16e5b4a2crow1_col8 {\n",
       "            background-color:  #aac7fd;\n",
       "            color:  #000000;\n",
       "        }    #T_6d0f4a30_c986_11e9_a533_80c16e5b4a2crow1_col9 {\n",
       "            background-color:  #3b4cc0;\n",
       "            color:  #f1f1f1;\n",
       "        }    #T_6d0f4a30_c986_11e9_a533_80c16e5b4a2crow1_col10 {\n",
       "            background-color:  #bed2f6;\n",
       "            color:  #000000;\n",
       "        }    #T_6d0f4a30_c986_11e9_a533_80c16e5b4a2crow2_col0 {\n",
       "            background-color:  #7ea1fa;\n",
       "            color:  #000000;\n",
       "        }    #T_6d0f4a30_c986_11e9_a533_80c16e5b4a2crow2_col1 {\n",
       "            background-color:  #81a4fb;\n",
       "            color:  #000000;\n",
       "        }    #T_6d0f4a30_c986_11e9_a533_80c16e5b4a2crow2_col2 {\n",
       "            background-color:  #b40426;\n",
       "            color:  #f1f1f1;\n",
       "        }    #T_6d0f4a30_c986_11e9_a533_80c16e5b4a2crow2_col3 {\n",
       "            background-color:  #6180e9;\n",
       "            color:  #000000;\n",
       "        }    #T_6d0f4a30_c986_11e9_a533_80c16e5b4a2crow2_col4 {\n",
       "            background-color:  #3b4cc0;\n",
       "            color:  #f1f1f1;\n",
       "        }    #T_6d0f4a30_c986_11e9_a533_80c16e5b4a2crow2_col5 {\n",
       "            background-color:  #7295f4;\n",
       "            color:  #000000;\n",
       "        }    #T_6d0f4a30_c986_11e9_a533_80c16e5b4a2crow2_col6 {\n",
       "            background-color:  #7396f5;\n",
       "            color:  #000000;\n",
       "        }    #T_6d0f4a30_c986_11e9_a533_80c16e5b4a2crow2_col7 {\n",
       "            background-color:  #7396f5;\n",
       "            color:  #000000;\n",
       "        }    #T_6d0f4a30_c986_11e9_a533_80c16e5b4a2crow2_col8 {\n",
       "            background-color:  #7699f6;\n",
       "            color:  #000000;\n",
       "        }    #T_6d0f4a30_c986_11e9_a533_80c16e5b4a2crow2_col9 {\n",
       "            background-color:  #81a4fb;\n",
       "            color:  #000000;\n",
       "        }    #T_6d0f4a30_c986_11e9_a533_80c16e5b4a2crow2_col10 {\n",
       "            background-color:  #688aef;\n",
       "            color:  #000000;\n",
       "        }    #T_6d0f4a30_c986_11e9_a533_80c16e5b4a2crow3_col0 {\n",
       "            background-color:  #5572df;\n",
       "            color:  #000000;\n",
       "        }    #T_6d0f4a30_c986_11e9_a533_80c16e5b4a2crow3_col1 {\n",
       "            background-color:  #5977e3;\n",
       "            color:  #000000;\n",
       "        }    #T_6d0f4a30_c986_11e9_a533_80c16e5b4a2crow3_col2 {\n",
       "            background-color:  #3b4cc0;\n",
       "            color:  #f1f1f1;\n",
       "        }    #T_6d0f4a30_c986_11e9_a533_80c16e5b4a2crow3_col3 {\n",
       "            background-color:  #b40426;\n",
       "            color:  #f1f1f1;\n",
       "        }    #T_6d0f4a30_c986_11e9_a533_80c16e5b4a2crow3_col4 {\n",
       "            background-color:  #6384eb;\n",
       "            color:  #000000;\n",
       "        }    #T_6d0f4a30_c986_11e9_a533_80c16e5b4a2crow3_col5 {\n",
       "            background-color:  #6180e9;\n",
       "            color:  #000000;\n",
       "        }    #T_6d0f4a30_c986_11e9_a533_80c16e5b4a2crow3_col6 {\n",
       "            background-color:  #5875e1;\n",
       "            color:  #000000;\n",
       "        }    #T_6d0f4a30_c986_11e9_a533_80c16e5b4a2crow3_col7 {\n",
       "            background-color:  #5572df;\n",
       "            color:  #000000;\n",
       "        }    #T_6d0f4a30_c986_11e9_a533_80c16e5b4a2crow3_col8 {\n",
       "            background-color:  #4a63d3;\n",
       "            color:  #f1f1f1;\n",
       "        }    #T_6d0f4a30_c986_11e9_a533_80c16e5b4a2crow3_col9 {\n",
       "            background-color:  #5a78e4;\n",
       "            color:  #000000;\n",
       "        }    #T_6d0f4a30_c986_11e9_a533_80c16e5b4a2crow3_col10 {\n",
       "            background-color:  #6c8ff1;\n",
       "            color:  #000000;\n",
       "        }    #T_6d0f4a30_c986_11e9_a533_80c16e5b4a2crow4_col0 {\n",
       "            background-color:  #7ea1fa;\n",
       "            color:  #000000;\n",
       "        }    #T_6d0f4a30_c986_11e9_a533_80c16e5b4a2crow4_col1 {\n",
       "            background-color:  #7b9ff9;\n",
       "            color:  #000000;\n",
       "        }    #T_6d0f4a30_c986_11e9_a533_80c16e5b4a2crow4_col2 {\n",
       "            background-color:  #3b4cc0;\n",
       "            color:  #f1f1f1;\n",
       "        }    #T_6d0f4a30_c986_11e9_a533_80c16e5b4a2crow4_col3 {\n",
       "            background-color:  #88abfd;\n",
       "            color:  #000000;\n",
       "        }    #T_6d0f4a30_c986_11e9_a533_80c16e5b4a2crow4_col4 {\n",
       "            background-color:  #b40426;\n",
       "            color:  #f1f1f1;\n",
       "        }    #T_6d0f4a30_c986_11e9_a533_80c16e5b4a2crow4_col5 {\n",
       "            background-color:  #8db0fe;\n",
       "            color:  #000000;\n",
       "        }    #T_6d0f4a30_c986_11e9_a533_80c16e5b4a2crow4_col6 {\n",
       "            background-color:  #89acfd;\n",
       "            color:  #000000;\n",
       "        }    #T_6d0f4a30_c986_11e9_a533_80c16e5b4a2crow4_col7 {\n",
       "            background-color:  #89acfd;\n",
       "            color:  #000000;\n",
       "        }    #T_6d0f4a30_c986_11e9_a533_80c16e5b4a2crow4_col8 {\n",
       "            background-color:  #82a6fb;\n",
       "            color:  #000000;\n",
       "        }    #T_6d0f4a30_c986_11e9_a533_80c16e5b4a2crow4_col9 {\n",
       "            background-color:  #7a9df8;\n",
       "            color:  #000000;\n",
       "        }    #T_6d0f4a30_c986_11e9_a533_80c16e5b4a2crow4_col10 {\n",
       "            background-color:  #8caffe;\n",
       "            color:  #000000;\n",
       "        }    #T_6d0f4a30_c986_11e9_a533_80c16e5b4a2crow5_col0 {\n",
       "            background-color:  #7a9df8;\n",
       "            color:  #000000;\n",
       "        }    #T_6d0f4a30_c986_11e9_a533_80c16e5b4a2crow5_col1 {\n",
       "            background-color:  #92b4fe;\n",
       "            color:  #000000;\n",
       "        }    #T_6d0f4a30_c986_11e9_a533_80c16e5b4a2crow5_col2 {\n",
       "            background-color:  #7da0f9;\n",
       "            color:  #000000;\n",
       "        }    #T_6d0f4a30_c986_11e9_a533_80c16e5b4a2crow5_col3 {\n",
       "            background-color:  #8fb1fe;\n",
       "            color:  #000000;\n",
       "        }    #T_6d0f4a30_c986_11e9_a533_80c16e5b4a2crow5_col4 {\n",
       "            background-color:  #96b7ff;\n",
       "            color:  #000000;\n",
       "        }    #T_6d0f4a30_c986_11e9_a533_80c16e5b4a2crow5_col5 {\n",
       "            background-color:  #b40426;\n",
       "            color:  #f1f1f1;\n",
       "        }    #T_6d0f4a30_c986_11e9_a533_80c16e5b4a2crow5_col6 {\n",
       "            background-color:  #6485ec;\n",
       "            color:  #000000;\n",
       "        }    #T_6d0f4a30_c986_11e9_a533_80c16e5b4a2crow5_col7 {\n",
       "            background-color:  #6485ec;\n",
       "            color:  #000000;\n",
       "        }    #T_6d0f4a30_c986_11e9_a533_80c16e5b4a2crow5_col8 {\n",
       "            background-color:  #f7a889;\n",
       "            color:  #000000;\n",
       "        }    #T_6d0f4a30_c986_11e9_a533_80c16e5b4a2crow5_col9 {\n",
       "            background-color:  #96b7ff;\n",
       "            color:  #000000;\n",
       "        }    #T_6d0f4a30_c986_11e9_a533_80c16e5b4a2crow5_col10 {\n",
       "            background-color:  #3b4cc0;\n",
       "            color:  #f1f1f1;\n",
       "        }    #T_6d0f4a30_c986_11e9_a533_80c16e5b4a2crow6_col0 {\n",
       "            background-color:  #7093f3;\n",
       "            color:  #000000;\n",
       "        }    #T_6d0f4a30_c986_11e9_a533_80c16e5b4a2crow6_col1 {\n",
       "            background-color:  #a2c1ff;\n",
       "            color:  #000000;\n",
       "        }    #T_6d0f4a30_c986_11e9_a533_80c16e5b4a2crow6_col2 {\n",
       "            background-color:  #5875e1;\n",
       "            color:  #000000;\n",
       "        }    #T_6d0f4a30_c986_11e9_a533_80c16e5b4a2crow6_col3 {\n",
       "            background-color:  #6180e9;\n",
       "            color:  #000000;\n",
       "        }    #T_6d0f4a30_c986_11e9_a533_80c16e5b4a2crow6_col4 {\n",
       "            background-color:  #6e90f2;\n",
       "            color:  #000000;\n",
       "        }    #T_6d0f4a30_c986_11e9_a533_80c16e5b4a2crow6_col5 {\n",
       "            background-color:  #3e51c5;\n",
       "            color:  #f1f1f1;\n",
       "        }    #T_6d0f4a30_c986_11e9_a533_80c16e5b4a2crow6_col6 {\n",
       "            background-color:  #b40426;\n",
       "            color:  #f1f1f1;\n",
       "        }    #T_6d0f4a30_c986_11e9_a533_80c16e5b4a2crow6_col7 {\n",
       "            background-color:  #b50927;\n",
       "            color:  #f1f1f1;\n",
       "        }    #T_6d0f4a30_c986_11e9_a533_80c16e5b4a2crow6_col8 {\n",
       "            background-color:  #84a7fc;\n",
       "            color:  #000000;\n",
       "        }    #T_6d0f4a30_c986_11e9_a533_80c16e5b4a2crow6_col9 {\n",
       "            background-color:  #3b4cc0;\n",
       "            color:  #f1f1f1;\n",
       "        }    #T_6d0f4a30_c986_11e9_a533_80c16e5b4a2crow6_col10 {\n",
       "            background-color:  #f7b599;\n",
       "            color:  #000000;\n",
       "        }    #T_6d0f4a30_c986_11e9_a533_80c16e5b4a2crow7_col0 {\n",
       "            background-color:  #779af7;\n",
       "            color:  #000000;\n",
       "        }    #T_6d0f4a30_c986_11e9_a533_80c16e5b4a2crow7_col1 {\n",
       "            background-color:  #aac7fd;\n",
       "            color:  #000000;\n",
       "        }    #T_6d0f4a30_c986_11e9_a533_80c16e5b4a2crow7_col2 {\n",
       "            background-color:  #5d7ce6;\n",
       "            color:  #000000;\n",
       "        }    #T_6d0f4a30_c986_11e9_a533_80c16e5b4a2crow7_col3 {\n",
       "            background-color:  #6687ed;\n",
       "            color:  #000000;\n",
       "        }    #T_6d0f4a30_c986_11e9_a533_80c16e5b4a2crow7_col4 {\n",
       "            background-color:  #7597f6;\n",
       "            color:  #000000;\n",
       "        }    #T_6d0f4a30_c986_11e9_a533_80c16e5b4a2crow7_col5 {\n",
       "            background-color:  #445acc;\n",
       "            color:  #f1f1f1;\n",
       "        }    #T_6d0f4a30_c986_11e9_a533_80c16e5b4a2crow7_col6 {\n",
       "            background-color:  #b50927;\n",
       "            color:  #f1f1f1;\n",
       "        }    #T_6d0f4a30_c986_11e9_a533_80c16e5b4a2crow7_col7 {\n",
       "            background-color:  #b40426;\n",
       "            color:  #f1f1f1;\n",
       "        }    #T_6d0f4a30_c986_11e9_a533_80c16e5b4a2crow7_col8 {\n",
       "            background-color:  #8db0fe;\n",
       "            color:  #000000;\n",
       "        }    #T_6d0f4a30_c986_11e9_a533_80c16e5b4a2crow7_col9 {\n",
       "            background-color:  #3b4cc0;\n",
       "            color:  #f1f1f1;\n",
       "        }    #T_6d0f4a30_c986_11e9_a533_80c16e5b4a2crow7_col10 {\n",
       "            background-color:  #f7b396;\n",
       "            color:  #000000;\n",
       "        }    #T_6d0f4a30_c986_11e9_a533_80c16e5b4a2crow8_col0 {\n",
       "            background-color:  #506bda;\n",
       "            color:  #000000;\n",
       "        }    #T_6d0f4a30_c986_11e9_a533_80c16e5b4a2crow8_col1 {\n",
       "            background-color:  #adc9fd;\n",
       "            color:  #000000;\n",
       "        }    #T_6d0f4a30_c986_11e9_a533_80c16e5b4a2crow8_col2 {\n",
       "            background-color:  #6a8bef;\n",
       "            color:  #000000;\n",
       "        }    #T_6d0f4a30_c986_11e9_a533_80c16e5b4a2crow8_col3 {\n",
       "            background-color:  #6485ec;\n",
       "            color:  #000000;\n",
       "        }    #T_6d0f4a30_c986_11e9_a533_80c16e5b4a2crow8_col4 {\n",
       "            background-color:  #779af7;\n",
       "            color:  #000000;\n",
       "        }    #T_6d0f4a30_c986_11e9_a533_80c16e5b4a2crow8_col5 {\n",
       "            background-color:  #f7b093;\n",
       "            color:  #000000;\n",
       "        }    #T_6d0f4a30_c986_11e9_a533_80c16e5b4a2crow8_col6 {\n",
       "            background-color:  #92b4fe;\n",
       "            color:  #000000;\n",
       "        }    #T_6d0f4a30_c986_11e9_a533_80c16e5b4a2crow8_col7 {\n",
       "            background-color:  #96b7ff;\n",
       "            color:  #000000;\n",
       "        }    #T_6d0f4a30_c986_11e9_a533_80c16e5b4a2crow8_col8 {\n",
       "            background-color:  #b40426;\n",
       "            color:  #f1f1f1;\n",
       "        }    #T_6d0f4a30_c986_11e9_a533_80c16e5b4a2crow8_col9 {\n",
       "            background-color:  #3b4cc0;\n",
       "            color:  #f1f1f1;\n",
       "        }    #T_6d0f4a30_c986_11e9_a533_80c16e5b4a2crow8_col10 {\n",
       "            background-color:  #4b64d5;\n",
       "            color:  #f1f1f1;\n",
       "        }    #T_6d0f4a30_c986_11e9_a533_80c16e5b4a2crow9_col0 {\n",
       "            background-color:  #6c8ff1;\n",
       "            color:  #000000;\n",
       "        }    #T_6d0f4a30_c986_11e9_a533_80c16e5b4a2crow9_col1 {\n",
       "            background-color:  #4055c8;\n",
       "            color:  #f1f1f1;\n",
       "        }    #T_6d0f4a30_c986_11e9_a533_80c16e5b4a2crow9_col2 {\n",
       "            background-color:  #799cf8;\n",
       "            color:  #000000;\n",
       "        }    #T_6d0f4a30_c986_11e9_a533_80c16e5b4a2crow9_col3 {\n",
       "            background-color:  #7699f6;\n",
       "            color:  #000000;\n",
       "        }    #T_6d0f4a30_c986_11e9_a533_80c16e5b4a2crow9_col4 {\n",
       "            background-color:  #7093f3;\n",
       "            color:  #000000;\n",
       "        }    #T_6d0f4a30_c986_11e9_a533_80c16e5b4a2crow9_col5 {\n",
       "            background-color:  #84a7fc;\n",
       "            color:  #000000;\n",
       "        }    #T_6d0f4a30_c986_11e9_a533_80c16e5b4a2crow9_col6 {\n",
       "            background-color:  #4e68d8;\n",
       "            color:  #000000;\n",
       "        }    #T_6d0f4a30_c986_11e9_a533_80c16e5b4a2crow9_col7 {\n",
       "            background-color:  #465ecf;\n",
       "            color:  #f1f1f1;\n",
       "        }    #T_6d0f4a30_c986_11e9_a533_80c16e5b4a2crow9_col8 {\n",
       "            background-color:  #3d50c3;\n",
       "            color:  #f1f1f1;\n",
       "        }    #T_6d0f4a30_c986_11e9_a533_80c16e5b4a2crow9_col9 {\n",
       "            background-color:  #b40426;\n",
       "            color:  #f1f1f1;\n",
       "        }    #T_6d0f4a30_c986_11e9_a533_80c16e5b4a2crow9_col10 {\n",
       "            background-color:  #3b4cc0;\n",
       "            color:  #f1f1f1;\n",
       "        }    #T_6d0f4a30_c986_11e9_a533_80c16e5b4a2crow10_col0 {\n",
       "            background-color:  #f7b599;\n",
       "            color:  #000000;\n",
       "        }    #T_6d0f4a30_c986_11e9_a533_80c16e5b4a2crow10_col1 {\n",
       "            background-color:  #cdd9ec;\n",
       "            color:  #000000;\n",
       "        }    #T_6d0f4a30_c986_11e9_a533_80c16e5b4a2crow10_col2 {\n",
       "            background-color:  #7396f5;\n",
       "            color:  #000000;\n",
       "        }    #T_6d0f4a30_c986_11e9_a533_80c16e5b4a2crow10_col3 {\n",
       "            background-color:  #9abbff;\n",
       "            color:  #000000;\n",
       "        }    #T_6d0f4a30_c986_11e9_a533_80c16e5b4a2crow10_col4 {\n",
       "            background-color:  #96b7ff;\n",
       "            color:  #000000;\n",
       "        }    #T_6d0f4a30_c986_11e9_a533_80c16e5b4a2crow10_col5 {\n",
       "            background-color:  #3b4cc0;\n",
       "            color:  #f1f1f1;\n",
       "        }    #T_6d0f4a30_c986_11e9_a533_80c16e5b4a2crow10_col6 {\n",
       "            background-color:  #f7a889;\n",
       "            color:  #000000;\n",
       "        }    #T_6d0f4a30_c986_11e9_a533_80c16e5b4a2crow10_col7 {\n",
       "            background-color:  #f7a688;\n",
       "            color:  #000000;\n",
       "        }    #T_6d0f4a30_c986_11e9_a533_80c16e5b4a2crow10_col8 {\n",
       "            background-color:  #6282ea;\n",
       "            color:  #000000;\n",
       "        }    #T_6d0f4a30_c986_11e9_a533_80c16e5b4a2crow10_col9 {\n",
       "            background-color:  #4e68d8;\n",
       "            color:  #000000;\n",
       "        }    #T_6d0f4a30_c986_11e9_a533_80c16e5b4a2crow10_col10 {\n",
       "            background-color:  #b40426;\n",
       "            color:  #f1f1f1;\n",
       "        }</style><table id=\"T_6d0f4a30_c986_11e9_a533_80c16e5b4a2c\" ><thead>    <tr>        <th class=\"blank level0\" ></th>        <th class=\"col_heading level0 col0\" >yr</th>        <th class=\"col_heading level0 col1\" >mnth</th>        <th class=\"col_heading level0 col2\" >holiday</th>        <th class=\"col_heading level0 col3\" >weekday</th>        <th class=\"col_heading level0 col4\" >workingday</th>        <th class=\"col_heading level0 col5\" >weathersit</th>        <th class=\"col_heading level0 col6\" >temp</th>        <th class=\"col_heading level0 col7\" >atemp</th>        <th class=\"col_heading level0 col8\" >hum</th>        <th class=\"col_heading level0 col9\" >windspeed</th>        <th class=\"col_heading level0 col10\" >cnt</th>    </tr></thead><tbody>\n",
       "                <tr>\n",
       "                        <th id=\"T_6d0f4a30_c986_11e9_a533_80c16e5b4a2clevel0_row0\" class=\"row_heading level0 row0\" >yr</th>\n",
       "                        <td id=\"T_6d0f4a30_c986_11e9_a533_80c16e5b4a2crow0_col0\" class=\"data row0 col0\" >1.0</td>\n",
       "                        <td id=\"T_6d0f4a30_c986_11e9_a533_80c16e5b4a2crow0_col1\" class=\"data row0 col1\" >-0.00099</td>\n",
       "                        <td id=\"T_6d0f4a30_c986_11e9_a533_80c16e5b4a2crow0_col2\" class=\"data row0 col2\" >0.0085</td>\n",
       "                        <td id=\"T_6d0f4a30_c986_11e9_a533_80c16e5b4a2crow0_col3\" class=\"data row0 col3\" >-0.0063</td>\n",
       "                        <td id=\"T_6d0f4a30_c986_11e9_a533_80c16e5b4a2crow0_col4\" class=\"data row0 col4\" >0.0051</td>\n",
       "                        <td id=\"T_6d0f4a30_c986_11e9_a533_80c16e5b4a2crow0_col5\" class=\"data row0 col5\" >-0.045</td>\n",
       "                        <td id=\"T_6d0f4a30_c986_11e9_a533_80c16e5b4a2crow0_col6\" class=\"data row0 col6\" >0.055</td>\n",
       "                        <td id=\"T_6d0f4a30_c986_11e9_a533_80c16e5b4a2crow0_col7\" class=\"data row0 col7\" >0.054</td>\n",
       "                        <td id=\"T_6d0f4a30_c986_11e9_a533_80c16e5b4a2crow0_col8\" class=\"data row0 col8\" >-0.12</td>\n",
       "                        <td id=\"T_6d0f4a30_c986_11e9_a533_80c16e5b4a2crow0_col9\" class=\"data row0 col9\" >-0.023</td>\n",
       "                        <td id=\"T_6d0f4a30_c986_11e9_a533_80c16e5b4a2crow0_col10\" class=\"data row0 col10\" >0.57</td>\n",
       "            </tr>\n",
       "            <tr>\n",
       "                        <th id=\"T_6d0f4a30_c986_11e9_a533_80c16e5b4a2clevel0_row1\" class=\"row_heading level0 row1\" >mnth</th>\n",
       "                        <td id=\"T_6d0f4a30_c986_11e9_a533_80c16e5b4a2crow1_col0\" class=\"data row1 col0\" >-0.00099</td>\n",
       "                        <td id=\"T_6d0f4a30_c986_11e9_a533_80c16e5b4a2crow1_col1\" class=\"data row1 col1\" >1.0</td>\n",
       "                        <td id=\"T_6d0f4a30_c986_11e9_a533_80c16e5b4a2crow1_col2\" class=\"data row1 col2\" >0.017</td>\n",
       "                        <td id=\"T_6d0f4a30_c986_11e9_a533_80c16e5b4a2crow1_col3\" class=\"data row1 col3\" >0.0087</td>\n",
       "                        <td id=\"T_6d0f4a30_c986_11e9_a533_80c16e5b4a2crow1_col4\" class=\"data row1 col4\" >-0.0017</td>\n",
       "                        <td id=\"T_6d0f4a30_c986_11e9_a533_80c16e5b4a2crow1_col5\" class=\"data row1 col5\" >0.043</td>\n",
       "                        <td id=\"T_6d0f4a30_c986_11e9_a533_80c16e5b4a2crow1_col6\" class=\"data row1 col6\" >0.22</td>\n",
       "                        <td id=\"T_6d0f4a30_c986_11e9_a533_80c16e5b4a2crow1_col7\" class=\"data row1 col7\" >0.22</td>\n",
       "                        <td id=\"T_6d0f4a30_c986_11e9_a533_80c16e5b4a2crow1_col8\" class=\"data row1 col8\" >0.2</td>\n",
       "                        <td id=\"T_6d0f4a30_c986_11e9_a533_80c16e5b4a2crow1_col9\" class=\"data row1 col9\" >-0.19</td>\n",
       "                        <td id=\"T_6d0f4a30_c986_11e9_a533_80c16e5b4a2crow1_col10\" class=\"data row1 col10\" >0.28</td>\n",
       "            </tr>\n",
       "            <tr>\n",
       "                        <th id=\"T_6d0f4a30_c986_11e9_a533_80c16e5b4a2clevel0_row2\" class=\"row_heading level0 row2\" >holiday</th>\n",
       "                        <td id=\"T_6d0f4a30_c986_11e9_a533_80c16e5b4a2crow2_col0\" class=\"data row2 col0\" >0.0085</td>\n",
       "                        <td id=\"T_6d0f4a30_c986_11e9_a533_80c16e5b4a2crow2_col1\" class=\"data row2 col1\" >0.017</td>\n",
       "                        <td id=\"T_6d0f4a30_c986_11e9_a533_80c16e5b4a2crow2_col2\" class=\"data row2 col2\" >1.0</td>\n",
       "                        <td id=\"T_6d0f4a30_c986_11e9_a533_80c16e5b4a2crow2_col3\" class=\"data row2 col3\" >-0.1</td>\n",
       "                        <td id=\"T_6d0f4a30_c986_11e9_a533_80c16e5b4a2crow2_col4\" class=\"data row2 col4\" >-0.26</td>\n",
       "                        <td id=\"T_6d0f4a30_c986_11e9_a533_80c16e5b4a2crow2_col5\" class=\"data row2 col5\" >-0.035</td>\n",
       "                        <td id=\"T_6d0f4a30_c986_11e9_a533_80c16e5b4a2crow2_col6\" class=\"data row2 col6\" >-0.031</td>\n",
       "                        <td id=\"T_6d0f4a30_c986_11e9_a533_80c16e5b4a2crow2_col7\" class=\"data row2 col7\" >-0.035</td>\n",
       "                        <td id=\"T_6d0f4a30_c986_11e9_a533_80c16e5b4a2crow2_col8\" class=\"data row2 col8\" >-0.021</td>\n",
       "                        <td id=\"T_6d0f4a30_c986_11e9_a533_80c16e5b4a2crow2_col9\" class=\"data row2 col9\" >0.017</td>\n",
       "                        <td id=\"T_6d0f4a30_c986_11e9_a533_80c16e5b4a2crow2_col10\" class=\"data row2 col10\" >-0.072</td>\n",
       "            </tr>\n",
       "            <tr>\n",
       "                        <th id=\"T_6d0f4a30_c986_11e9_a533_80c16e5b4a2clevel0_row3\" class=\"row_heading level0 row3\" >weekday</th>\n",
       "                        <td id=\"T_6d0f4a30_c986_11e9_a533_80c16e5b4a2crow3_col0\" class=\"data row3 col0\" >-0.0063</td>\n",
       "                        <td id=\"T_6d0f4a30_c986_11e9_a533_80c16e5b4a2crow3_col1\" class=\"data row3 col1\" >0.0087</td>\n",
       "                        <td id=\"T_6d0f4a30_c986_11e9_a533_80c16e5b4a2crow3_col2\" class=\"data row3 col2\" >-0.1</td>\n",
       "                        <td id=\"T_6d0f4a30_c986_11e9_a533_80c16e5b4a2crow3_col3\" class=\"data row3 col3\" >1.0</td>\n",
       "                        <td id=\"T_6d0f4a30_c986_11e9_a533_80c16e5b4a2crow3_col4\" class=\"data row3 col4\" >0.041</td>\n",
       "                        <td id=\"T_6d0f4a30_c986_11e9_a533_80c16e5b4a2crow3_col5\" class=\"data row3 col5\" >0.032</td>\n",
       "                        <td id=\"T_6d0f4a30_c986_11e9_a533_80c16e5b4a2crow3_col6\" class=\"data row3 col6\" >0.0018</td>\n",
       "                        <td id=\"T_6d0f4a30_c986_11e9_a533_80c16e5b4a2crow3_col7\" class=\"data row3 col7\" >-0.0054</td>\n",
       "                        <td id=\"T_6d0f4a30_c986_11e9_a533_80c16e5b4a2crow3_col8\" class=\"data row3 col8\" >-0.043</td>\n",
       "                        <td id=\"T_6d0f4a30_c986_11e9_a533_80c16e5b4a2crow3_col9\" class=\"data row3 col9\" >0.0099</td>\n",
       "                        <td id=\"T_6d0f4a30_c986_11e9_a533_80c16e5b4a2crow3_col10\" class=\"data row3 col10\" >0.072</td>\n",
       "            </tr>\n",
       "            <tr>\n",
       "                        <th id=\"T_6d0f4a30_c986_11e9_a533_80c16e5b4a2clevel0_row4\" class=\"row_heading level0 row4\" >workingday</th>\n",
       "                        <td id=\"T_6d0f4a30_c986_11e9_a533_80c16e5b4a2crow4_col0\" class=\"data row4 col0\" >0.0051</td>\n",
       "                        <td id=\"T_6d0f4a30_c986_11e9_a533_80c16e5b4a2crow4_col1\" class=\"data row4 col1\" >-0.0017</td>\n",
       "                        <td id=\"T_6d0f4a30_c986_11e9_a533_80c16e5b4a2crow4_col2\" class=\"data row4 col2\" >-0.26</td>\n",
       "                        <td id=\"T_6d0f4a30_c986_11e9_a533_80c16e5b4a2crow4_col3\" class=\"data row4 col3\" >0.041</td>\n",
       "                        <td id=\"T_6d0f4a30_c986_11e9_a533_80c16e5b4a2crow4_col4\" class=\"data row4 col4\" >1.0</td>\n",
       "                        <td id=\"T_6d0f4a30_c986_11e9_a533_80c16e5b4a2crow4_col5\" class=\"data row4 col5\" >0.058</td>\n",
       "                        <td id=\"T_6d0f4a30_c986_11e9_a533_80c16e5b4a2crow4_col6\" class=\"data row4 col6\" >0.046</td>\n",
       "                        <td id=\"T_6d0f4a30_c986_11e9_a533_80c16e5b4a2crow4_col7\" class=\"data row4 col7\" >0.044</td>\n",
       "                        <td id=\"T_6d0f4a30_c986_11e9_a533_80c16e5b4a2crow4_col8\" class=\"data row4 col8\" >0.023</td>\n",
       "                        <td id=\"T_6d0f4a30_c986_11e9_a533_80c16e5b4a2crow4_col9\" class=\"data row4 col9\" >-0.011</td>\n",
       "                        <td id=\"T_6d0f4a30_c986_11e9_a533_80c16e5b4a2crow4_col10\" class=\"data row4 col10\" >0.056</td>\n",
       "            </tr>\n",
       "            <tr>\n",
       "                        <th id=\"T_6d0f4a30_c986_11e9_a533_80c16e5b4a2clevel0_row5\" class=\"row_heading level0 row5\" >weathersit</th>\n",
       "                        <td id=\"T_6d0f4a30_c986_11e9_a533_80c16e5b4a2crow5_col0\" class=\"data row5 col0\" >-0.045</td>\n",
       "                        <td id=\"T_6d0f4a30_c986_11e9_a533_80c16e5b4a2crow5_col1\" class=\"data row5 col1\" >0.043</td>\n",
       "                        <td id=\"T_6d0f4a30_c986_11e9_a533_80c16e5b4a2crow5_col2\" class=\"data row5 col2\" >-0.035</td>\n",
       "                        <td id=\"T_6d0f4a30_c986_11e9_a533_80c16e5b4a2crow5_col3\" class=\"data row5 col3\" >0.032</td>\n",
       "                        <td id=\"T_6d0f4a30_c986_11e9_a533_80c16e5b4a2crow5_col4\" class=\"data row5 col4\" >0.058</td>\n",
       "                        <td id=\"T_6d0f4a30_c986_11e9_a533_80c16e5b4a2crow5_col5\" class=\"data row5 col5\" >1.0</td>\n",
       "                        <td id=\"T_6d0f4a30_c986_11e9_a533_80c16e5b4a2crow5_col6\" class=\"data row5 col6\" >-0.13</td>\n",
       "                        <td id=\"T_6d0f4a30_c986_11e9_a533_80c16e5b4a2crow5_col7\" class=\"data row5 col7\" >-0.13</td>\n",
       "                        <td id=\"T_6d0f4a30_c986_11e9_a533_80c16e5b4a2crow5_col8\" class=\"data row5 col8\" >0.62</td>\n",
       "                        <td id=\"T_6d0f4a30_c986_11e9_a533_80c16e5b4a2crow5_col9\" class=\"data row5 col9\" >0.059</td>\n",
       "                        <td id=\"T_6d0f4a30_c986_11e9_a533_80c16e5b4a2crow5_col10\" class=\"data row5 col10\" >-0.3</td>\n",
       "            </tr>\n",
       "            <tr>\n",
       "                        <th id=\"T_6d0f4a30_c986_11e9_a533_80c16e5b4a2clevel0_row6\" class=\"row_heading level0 row6\" >temp</th>\n",
       "                        <td id=\"T_6d0f4a30_c986_11e9_a533_80c16e5b4a2crow6_col0\" class=\"data row6 col0\" >0.055</td>\n",
       "                        <td id=\"T_6d0f4a30_c986_11e9_a533_80c16e5b4a2crow6_col1\" class=\"data row6 col1\" >0.22</td>\n",
       "                        <td id=\"T_6d0f4a30_c986_11e9_a533_80c16e5b4a2crow6_col2\" class=\"data row6 col2\" >-0.031</td>\n",
       "                        <td id=\"T_6d0f4a30_c986_11e9_a533_80c16e5b4a2crow6_col3\" class=\"data row6 col3\" >0.0018</td>\n",
       "                        <td id=\"T_6d0f4a30_c986_11e9_a533_80c16e5b4a2crow6_col4\" class=\"data row6 col4\" >0.046</td>\n",
       "                        <td id=\"T_6d0f4a30_c986_11e9_a533_80c16e5b4a2crow6_col5\" class=\"data row6 col5\" >-0.13</td>\n",
       "                        <td id=\"T_6d0f4a30_c986_11e9_a533_80c16e5b4a2crow6_col6\" class=\"data row6 col6\" >1.0</td>\n",
       "                        <td id=\"T_6d0f4a30_c986_11e9_a533_80c16e5b4a2crow6_col7\" class=\"data row6 col7\" >0.99</td>\n",
       "                        <td id=\"T_6d0f4a30_c986_11e9_a533_80c16e5b4a2crow6_col8\" class=\"data row6 col8\" >0.11</td>\n",
       "                        <td id=\"T_6d0f4a30_c986_11e9_a533_80c16e5b4a2crow6_col9\" class=\"data row6 col9\" >-0.14</td>\n",
       "                        <td id=\"T_6d0f4a30_c986_11e9_a533_80c16e5b4a2crow6_col10\" class=\"data row6 col10\" >0.63</td>\n",
       "            </tr>\n",
       "            <tr>\n",
       "                        <th id=\"T_6d0f4a30_c986_11e9_a533_80c16e5b4a2clevel0_row7\" class=\"row_heading level0 row7\" >atemp</th>\n",
       "                        <td id=\"T_6d0f4a30_c986_11e9_a533_80c16e5b4a2crow7_col0\" class=\"data row7 col0\" >0.054</td>\n",
       "                        <td id=\"T_6d0f4a30_c986_11e9_a533_80c16e5b4a2crow7_col1\" class=\"data row7 col1\" >0.22</td>\n",
       "                        <td id=\"T_6d0f4a30_c986_11e9_a533_80c16e5b4a2crow7_col2\" class=\"data row7 col2\" >-0.035</td>\n",
       "                        <td id=\"T_6d0f4a30_c986_11e9_a533_80c16e5b4a2crow7_col3\" class=\"data row7 col3\" >-0.0054</td>\n",
       "                        <td id=\"T_6d0f4a30_c986_11e9_a533_80c16e5b4a2crow7_col4\" class=\"data row7 col4\" >0.044</td>\n",
       "                        <td id=\"T_6d0f4a30_c986_11e9_a533_80c16e5b4a2crow7_col5\" class=\"data row7 col5\" >-0.13</td>\n",
       "                        <td id=\"T_6d0f4a30_c986_11e9_a533_80c16e5b4a2crow7_col6\" class=\"data row7 col6\" >0.99</td>\n",
       "                        <td id=\"T_6d0f4a30_c986_11e9_a533_80c16e5b4a2crow7_col7\" class=\"data row7 col7\" >1.0</td>\n",
       "                        <td id=\"T_6d0f4a30_c986_11e9_a533_80c16e5b4a2crow7_col8\" class=\"data row7 col8\" >0.13</td>\n",
       "                        <td id=\"T_6d0f4a30_c986_11e9_a533_80c16e5b4a2crow7_col9\" class=\"data row7 col9\" >-0.17</td>\n",
       "                        <td id=\"T_6d0f4a30_c986_11e9_a533_80c16e5b4a2crow7_col10\" class=\"data row7 col10\" >0.63</td>\n",
       "            </tr>\n",
       "            <tr>\n",
       "                        <th id=\"T_6d0f4a30_c986_11e9_a533_80c16e5b4a2clevel0_row8\" class=\"row_heading level0 row8\" >hum</th>\n",
       "                        <td id=\"T_6d0f4a30_c986_11e9_a533_80c16e5b4a2crow8_col0\" class=\"data row8 col0\" >-0.12</td>\n",
       "                        <td id=\"T_6d0f4a30_c986_11e9_a533_80c16e5b4a2crow8_col1\" class=\"data row8 col1\" >0.2</td>\n",
       "                        <td id=\"T_6d0f4a30_c986_11e9_a533_80c16e5b4a2crow8_col2\" class=\"data row8 col2\" >-0.021</td>\n",
       "                        <td id=\"T_6d0f4a30_c986_11e9_a533_80c16e5b4a2crow8_col3\" class=\"data row8 col3\" >-0.043</td>\n",
       "                        <td id=\"T_6d0f4a30_c986_11e9_a533_80c16e5b4a2crow8_col4\" class=\"data row8 col4\" >0.023</td>\n",
       "                        <td id=\"T_6d0f4a30_c986_11e9_a533_80c16e5b4a2crow8_col5\" class=\"data row8 col5\" >0.62</td>\n",
       "                        <td id=\"T_6d0f4a30_c986_11e9_a533_80c16e5b4a2crow8_col6\" class=\"data row8 col6\" >0.11</td>\n",
       "                        <td id=\"T_6d0f4a30_c986_11e9_a533_80c16e5b4a2crow8_col7\" class=\"data row8 col7\" >0.13</td>\n",
       "                        <td id=\"T_6d0f4a30_c986_11e9_a533_80c16e5b4a2crow8_col8\" class=\"data row8 col8\" >1.0</td>\n",
       "                        <td id=\"T_6d0f4a30_c986_11e9_a533_80c16e5b4a2crow8_col9\" class=\"data row8 col9\" >-0.2</td>\n",
       "                        <td id=\"T_6d0f4a30_c986_11e9_a533_80c16e5b4a2crow8_col10\" class=\"data row8 col10\" >-0.14</td>\n",
       "            </tr>\n",
       "            <tr>\n",
       "                        <th id=\"T_6d0f4a30_c986_11e9_a533_80c16e5b4a2clevel0_row9\" class=\"row_heading level0 row9\" >windspeed</th>\n",
       "                        <td id=\"T_6d0f4a30_c986_11e9_a533_80c16e5b4a2crow9_col0\" class=\"data row9 col0\" >-0.023</td>\n",
       "                        <td id=\"T_6d0f4a30_c986_11e9_a533_80c16e5b4a2crow9_col1\" class=\"data row9 col1\" >-0.19</td>\n",
       "                        <td id=\"T_6d0f4a30_c986_11e9_a533_80c16e5b4a2crow9_col2\" class=\"data row9 col2\" >0.017</td>\n",
       "                        <td id=\"T_6d0f4a30_c986_11e9_a533_80c16e5b4a2crow9_col3\" class=\"data row9 col3\" >0.0099</td>\n",
       "                        <td id=\"T_6d0f4a30_c986_11e9_a533_80c16e5b4a2crow9_col4\" class=\"data row9 col4\" >-0.011</td>\n",
       "                        <td id=\"T_6d0f4a30_c986_11e9_a533_80c16e5b4a2crow9_col5\" class=\"data row9 col5\" >0.059</td>\n",
       "                        <td id=\"T_6d0f4a30_c986_11e9_a533_80c16e5b4a2crow9_col6\" class=\"data row9 col6\" >-0.14</td>\n",
       "                        <td id=\"T_6d0f4a30_c986_11e9_a533_80c16e5b4a2crow9_col7\" class=\"data row9 col7\" >-0.17</td>\n",
       "                        <td id=\"T_6d0f4a30_c986_11e9_a533_80c16e5b4a2crow9_col8\" class=\"data row9 col8\" >-0.2</td>\n",
       "                        <td id=\"T_6d0f4a30_c986_11e9_a533_80c16e5b4a2crow9_col9\" class=\"data row9 col9\" >1.0</td>\n",
       "                        <td id=\"T_6d0f4a30_c986_11e9_a533_80c16e5b4a2crow9_col10\" class=\"data row9 col10\" >-0.22</td>\n",
       "            </tr>\n",
       "            <tr>\n",
       "                        <th id=\"T_6d0f4a30_c986_11e9_a533_80c16e5b4a2clevel0_row10\" class=\"row_heading level0 row10\" >cnt</th>\n",
       "                        <td id=\"T_6d0f4a30_c986_11e9_a533_80c16e5b4a2crow10_col0\" class=\"data row10 col0\" >0.57</td>\n",
       "                        <td id=\"T_6d0f4a30_c986_11e9_a533_80c16e5b4a2crow10_col1\" class=\"data row10 col1\" >0.28</td>\n",
       "                        <td id=\"T_6d0f4a30_c986_11e9_a533_80c16e5b4a2crow10_col2\" class=\"data row10 col2\" >-0.072</td>\n",
       "                        <td id=\"T_6d0f4a30_c986_11e9_a533_80c16e5b4a2crow10_col3\" class=\"data row10 col3\" >0.072</td>\n",
       "                        <td id=\"T_6d0f4a30_c986_11e9_a533_80c16e5b4a2crow10_col4\" class=\"data row10 col4\" >0.056</td>\n",
       "                        <td id=\"T_6d0f4a30_c986_11e9_a533_80c16e5b4a2crow10_col5\" class=\"data row10 col5\" >-0.3</td>\n",
       "                        <td id=\"T_6d0f4a30_c986_11e9_a533_80c16e5b4a2crow10_col6\" class=\"data row10 col6\" >0.63</td>\n",
       "                        <td id=\"T_6d0f4a30_c986_11e9_a533_80c16e5b4a2crow10_col7\" class=\"data row10 col7\" >0.63</td>\n",
       "                        <td id=\"T_6d0f4a30_c986_11e9_a533_80c16e5b4a2crow10_col8\" class=\"data row10 col8\" >-0.14</td>\n",
       "                        <td id=\"T_6d0f4a30_c986_11e9_a533_80c16e5b4a2crow10_col9\" class=\"data row10 col9\" >-0.22</td>\n",
       "                        <td id=\"T_6d0f4a30_c986_11e9_a533_80c16e5b4a2crow10_col10\" class=\"data row10 col10\" >1.0</td>\n",
       "            </tr>\n",
       "    </tbody></table>"
      ],
      "text/plain": [
       "<pandas.io.formats.style.Styler at 0x17ec6f10>"
      ]
     },
     "execution_count": 373,
     "metadata": {},
     "output_type": "execute_result"
    }
   ],
   "source": [
    "#finding correlation between variables\n",
    "df_out.corr(method='pearson').style.format(\"{:.2}\").background_gradient(cmap=plt.get_cmap('coolwarm'),axis=1)"
   ]
  },
  {
   "cell_type": "code",
   "execution_count": 374,
   "metadata": {
    "scrolled": true
   },
   "outputs": [],
   "source": [
    "corr=df_out.corr()"
   ]
  },
  {
   "cell_type": "code",
   "execution_count": 375,
   "metadata": {
    "scrolled": true
   },
   "outputs": [
    {
     "data": {
      "text/plain": [
       "<matplotlib.axes._subplots.AxesSubplot at 0x18e49a30>"
      ]
     },
     "execution_count": 375,
     "metadata": {},
     "output_type": "execute_result"
    },
    {
     "data": {
      "image/png": "[encoded data removed]",
      "text/plain": [
       "<Figure size 432x288 with 2 Axes>"
      ]
     },
     "metadata": {
      "needs_background": "light"
     },
     "output_type": "display_data"
    }
   ],
   "source": [
    "sns.heatmap(corr,mask=np.zeros_like(corr,dtype=np.bool),cmap=sns.diverging_palette(220,10,as_cmap=True),square=True)"
   ]
  },
  {
   "cell_type": "code",
   "execution_count": 376,
   "metadata": {},
   "outputs": [],
   "source": [
    "#feature selection\n",
    "from sklearn.feature_selection import SelectKBest\n",
    "from sklearn.feature_selection import chi2"
   ]
  },
  {
   "cell_type": "code",
   "execution_count": 377,
   "metadata": {},
   "outputs": [],
   "source": [
    "X=df_out.drop('cnt',axis=1)"
   ]
  },
  {
   "cell_type": "code",
   "execution_count": 378,
   "metadata": {},
   "outputs": [],
   "source": [
    "Y=df_out['cnt']"
   ]
  },
  {
   "cell_type": "code",
   "execution_count": 379,
   "metadata": {},
   "outputs": [],
   "source": [
    "bestfeature=SelectKBest(score_func=chi2,k=10)"
   ]
  },
  {
   "cell_type": "code",
   "execution_count": 380,
   "metadata": {},
   "outputs": [],
   "source": [
    "fit=bestfeature.fit(X,Y)"
   ]
  },
  {
   "cell_type": "code",
   "execution_count": 381,
   "metadata": {},
   "outputs": [],
   "source": [
    "dfscores=pd.DataFrame(fit.scores_)"
   ]
  },
  {
   "cell_type": "code",
   "execution_count": 382,
   "metadata": {},
   "outputs": [],
   "source": [
    "dfcolumns=pd.DataFrame(X.columns)"
   ]
  },
  {
   "cell_type": "code",
   "execution_count": 383,
   "metadata": {},
   "outputs": [],
   "source": [
    "featureScores=pd.concat([dfcolumns,dfscores],axis=1)"
   ]
  },
  {
   "cell_type": "code",
   "execution_count": 384,
   "metadata": {},
   "outputs": [],
   "source": [
    "featureScores.columns=['variables','Importance Score']"
   ]
  },
  {
   "cell_type": "code",
   "execution_count": 385,
   "metadata": {},
   "outputs": [
    {
     "data": {
      "text/html": [
       "<div>\n",
       "<style scoped>\n",
       "    .dataframe tbody tr th:only-of-type {\n",
       "        vertical-align: middle;\n",
       "    }\n",
       "\n",
       "    .dataframe tbody tr th {\n",
       "        vertical-align: top;\n",
       "    }\n",
       "\n",
       "    .dataframe thead th {\n",
       "        text-align: right;\n",
       "    }\n",
       "</style>\n",
       "<table border=\"1\" class=\"dataframe\">\n",
       "  <thead>\n",
       "    <tr style=\"text-align: right;\">\n",
       "      <th></th>\n",
       "      <th>variables</th>\n",
       "      <th>Importance Score</th>\n",
       "    </tr>\n",
       "  </thead>\n",
       "  <tbody>\n",
       "    <tr>\n",
       "      <th>2</th>\n",
       "      <td>mnth</td>\n",
       "      <td>1233.680128</td>\n",
       "    </tr>\n",
       "    <tr>\n",
       "      <th>4</th>\n",
       "      <td>weekday</td>\n",
       "      <td>916.440642</td>\n",
       "    </tr>\n",
       "    <tr>\n",
       "      <th>3</th>\n",
       "      <td>holiday</td>\n",
       "      <td>644.785714</td>\n",
       "    </tr>\n",
       "    <tr>\n",
       "      <th>1</th>\n",
       "      <td>yr</td>\n",
       "      <td>346.983240</td>\n",
       "    </tr>\n",
       "    <tr>\n",
       "      <th>0</th>\n",
       "      <td>season</td>\n",
       "      <td>333.681188</td>\n",
       "    </tr>\n",
       "    <tr>\n",
       "      <th>5</th>\n",
       "      <td>workingday</td>\n",
       "      <td>215.778004</td>\n",
       "    </tr>\n",
       "    <tr>\n",
       "      <th>6</th>\n",
       "      <td>weathersit</td>\n",
       "      <td>143.263237</td>\n",
       "    </tr>\n",
       "    <tr>\n",
       "      <th>7</th>\n",
       "      <td>temp</td>\n",
       "      <td>46.863598</td>\n",
       "    </tr>\n",
       "    <tr>\n",
       "      <th>8</th>\n",
       "      <td>atemp</td>\n",
       "      <td>38.648585</td>\n",
       "    </tr>\n",
       "    <tr>\n",
       "      <th>9</th>\n",
       "      <td>hum</td>\n",
       "      <td>20.974891</td>\n",
       "    </tr>\n",
       "    <tr>\n",
       "      <th>10</th>\n",
       "      <td>windspeed</td>\n",
       "      <td>19.029165</td>\n",
       "    </tr>\n",
       "  </tbody>\n",
       "</table>\n",
       "</div>"
      ],
      "text/plain": [
       "     variables  Importance Score\n",
       "2         mnth       1233.680128\n",
       "4      weekday        916.440642\n",
       "3      holiday        644.785714\n",
       "1           yr        346.983240\n",
       "0       season        333.681188\n",
       "5   workingday        215.778004\n",
       "6   weathersit        143.263237\n",
       "7         temp         46.863598\n",
       "8        atemp         38.648585\n",
       "9          hum         20.974891\n",
       "10   windspeed         19.029165"
      ]
     },
     "execution_count": 385,
     "metadata": {},
     "output_type": "execute_result"
    }
   ],
   "source": [
    "featureScores.nlargest(12,'Importance Score')"
   ]
  },
  {
   "cell_type": "code",
   "execution_count": 386,
   "metadata": {},
   "outputs": [],
   "source": [
    "df_new=df_out.drop(['atemp'],axis=1)"
   ]
  },
  {
   "cell_type": "code",
   "execution_count": 387,
   "metadata": {},
   "outputs": [],
   "source": [
    "#creating dummies\n",
    "cat_feats=['season','yr','mnth','holiday','weekday','workingday','weathersit']"
   ]
  },
  {
   "cell_type": "code",
   "execution_count": 388,
   "metadata": {},
   "outputs": [],
   "source": [
    "df_final=pd.get_dummies(df_new,columns=cat_feats)"
   ]
  },
  {
   "cell_type": "code",
   "execution_count": 389,
   "metadata": {
    "scrolled": true
   },
   "outputs": [
    {
     "data": {
      "text/html": [
       "<div>\n",
       "<style scoped>\n",
       "    .dataframe tbody tr th:only-of-type {\n",
       "        vertical-align: middle;\n",
       "    }\n",
       "\n",
       "    .dataframe tbody tr th {\n",
       "        vertical-align: top;\n",
       "    }\n",
       "\n",
       "    .dataframe thead th {\n",
       "        text-align: right;\n",
       "    }\n",
       "</style>\n",
       "<table border=\"1\" class=\"dataframe\">\n",
       "  <thead>\n",
       "    <tr style=\"text-align: right;\">\n",
       "      <th></th>\n",
       "      <th>temp</th>\n",
       "      <th>hum</th>\n",
       "      <th>windspeed</th>\n",
       "      <th>cnt</th>\n",
       "      <th>season_1</th>\n",
       "      <th>season_2</th>\n",
       "      <th>season_3</th>\n",
       "      <th>season_4</th>\n",
       "      <th>yr_0</th>\n",
       "      <th>yr_1</th>\n",
       "      <th>...</th>\n",
       "      <th>weekday_2</th>\n",
       "      <th>weekday_3</th>\n",
       "      <th>weekday_4</th>\n",
       "      <th>weekday_5</th>\n",
       "      <th>weekday_6</th>\n",
       "      <th>workingday_0</th>\n",
       "      <th>workingday_1</th>\n",
       "      <th>weathersit_1</th>\n",
       "      <th>weathersit_2</th>\n",
       "      <th>weathersit_3</th>\n",
       "    </tr>\n",
       "  </thead>\n",
       "  <tbody>\n",
       "    <tr>\n",
       "      <th>0</th>\n",
       "      <td>0.344167</td>\n",
       "      <td>0.805833</td>\n",
       "      <td>0.160446</td>\n",
       "      <td>985</td>\n",
       "      <td>1</td>\n",
       "      <td>0</td>\n",
       "      <td>0</td>\n",
       "      <td>0</td>\n",
       "      <td>1</td>\n",
       "      <td>0</td>\n",
       "      <td>...</td>\n",
       "      <td>0</td>\n",
       "      <td>0</td>\n",
       "      <td>0</td>\n",
       "      <td>0</td>\n",
       "      <td>1</td>\n",
       "      <td>1</td>\n",
       "      <td>0</td>\n",
       "      <td>0</td>\n",
       "      <td>1</td>\n",
       "      <td>0</td>\n",
       "    </tr>\n",
       "    <tr>\n",
       "      <th>1</th>\n",
       "      <td>0.363478</td>\n",
       "      <td>0.696087</td>\n",
       "      <td>0.248539</td>\n",
       "      <td>801</td>\n",
       "      <td>1</td>\n",
       "      <td>0</td>\n",
       "      <td>0</td>\n",
       "      <td>0</td>\n",
       "      <td>1</td>\n",
       "      <td>0</td>\n",
       "      <td>...</td>\n",
       "      <td>0</td>\n",
       "      <td>0</td>\n",
       "      <td>0</td>\n",
       "      <td>0</td>\n",
       "      <td>0</td>\n",
       "      <td>1</td>\n",
       "      <td>0</td>\n",
       "      <td>0</td>\n",
       "      <td>1</td>\n",
       "      <td>0</td>\n",
       "    </tr>\n",
       "    <tr>\n",
       "      <th>2</th>\n",
       "      <td>0.196364</td>\n",
       "      <td>0.437273</td>\n",
       "      <td>0.248309</td>\n",
       "      <td>1349</td>\n",
       "      <td>1</td>\n",
       "      <td>0</td>\n",
       "      <td>0</td>\n",
       "      <td>0</td>\n",
       "      <td>1</td>\n",
       "      <td>0</td>\n",
       "      <td>...</td>\n",
       "      <td>0</td>\n",
       "      <td>0</td>\n",
       "      <td>0</td>\n",
       "      <td>0</td>\n",
       "      <td>0</td>\n",
       "      <td>0</td>\n",
       "      <td>1</td>\n",
       "      <td>1</td>\n",
       "      <td>0</td>\n",
       "      <td>0</td>\n",
       "    </tr>\n",
       "    <tr>\n",
       "      <th>3</th>\n",
       "      <td>0.200000</td>\n",
       "      <td>0.590435</td>\n",
       "      <td>0.160296</td>\n",
       "      <td>1562</td>\n",
       "      <td>1</td>\n",
       "      <td>0</td>\n",
       "      <td>0</td>\n",
       "      <td>0</td>\n",
       "      <td>1</td>\n",
       "      <td>0</td>\n",
       "      <td>...</td>\n",
       "      <td>1</td>\n",
       "      <td>0</td>\n",
       "      <td>0</td>\n",
       "      <td>0</td>\n",
       "      <td>0</td>\n",
       "      <td>0</td>\n",
       "      <td>1</td>\n",
       "      <td>1</td>\n",
       "      <td>0</td>\n",
       "      <td>0</td>\n",
       "    </tr>\n",
       "    <tr>\n",
       "      <th>4</th>\n",
       "      <td>0.226957</td>\n",
       "      <td>0.436957</td>\n",
       "      <td>0.186900</td>\n",
       "      <td>1600</td>\n",
       "      <td>1</td>\n",
       "      <td>0</td>\n",
       "      <td>0</td>\n",
       "      <td>0</td>\n",
       "      <td>1</td>\n",
       "      <td>0</td>\n",
       "      <td>...</td>\n",
       "      <td>0</td>\n",
       "      <td>1</td>\n",
       "      <td>0</td>\n",
       "      <td>0</td>\n",
       "      <td>0</td>\n",
       "      <td>0</td>\n",
       "      <td>1</td>\n",
       "      <td>1</td>\n",
       "      <td>0</td>\n",
       "      <td>0</td>\n",
       "    </tr>\n",
       "  </tbody>\n",
       "</table>\n",
       "<p>5 rows × 36 columns</p>\n",
       "</div>"
      ],
      "text/plain": [
       "       temp       hum  windspeed   cnt  season_1  season_2  season_3  \\\n",
       "0  0.344167  0.805833   0.160446   985         1         0         0   \n",
       "1  0.363478  0.696087   0.248539   801         1         0         0   \n",
       "2  0.196364  0.437273   0.248309  1349         1         0         0   \n",
       "3  0.200000  0.590435   0.160296  1562         1         0         0   \n",
       "4  0.226957  0.436957   0.186900  1600         1         0         0   \n",
       "\n",
       "   season_4  yr_0  yr_1  ...  weekday_2  weekday_3  weekday_4  weekday_5  \\\n",
       "0         0     1     0  ...          0          0          0          0   \n",
       "1         0     1     0  ...          0          0          0          0   \n",
       "2         0     1     0  ...          0          0          0          0   \n",
       "3         0     1     0  ...          1          0          0          0   \n",
       "4         0     1     0  ...          0          1          0          0   \n",
       "\n",
       "   weekday_6  workingday_0  workingday_1  weathersit_1  weathersit_2  \\\n",
       "0          1             1             0             0             1   \n",
       "1          0             1             0             0             1   \n",
       "2          0             0             1             1             0   \n",
       "3          0             0             1             1             0   \n",
       "4          0             0             1             1             0   \n",
       "\n",
       "   weathersit_3  \n",
       "0             0  \n",
       "1             0  \n",
       "2             0  \n",
       "3             0  \n",
       "4             0  \n",
       "\n",
       "[5 rows x 36 columns]"
      ]
     },
     "execution_count": 389,
     "metadata": {},
     "output_type": "execute_result"
    }
   ],
   "source": [
    "df_final.head()"
   ]
  },
  {
   "cell_type": "code",
   "execution_count": 390,
   "metadata": {},
   "outputs": [],
   "source": [
    "#creating training and testing data\n",
    "from sklearn.model_selection import train_test_split\n",
    "X=df_final.drop(['cnt'],axis=1)\n",
    "Y=df_final['cnt']\n",
    "X_train,X_test,Y_train,Y_test=train_test_split(X,Y,test_size=0.30,random_state=101)"
   ]
  },
  {
   "cell_type": "code",
   "execution_count": 391,
   "metadata": {},
   "outputs": [
    {
     "data": {
      "text/plain": [
       "DecisionTreeRegressor(criterion='mse', max_depth=None, max_features=None,\n",
       "           max_leaf_nodes=None, min_impurity_decrease=0.0,\n",
       "           min_impurity_split=None, min_samples_leaf=1,\n",
       "           min_samples_split=2, min_weight_fraction_leaf=0.0,\n",
       "           presort=False, random_state=None, splitter='best')"
      ]
     },
     "execution_count": 391,
     "metadata": {},
     "output_type": "execute_result"
    }
   ],
   "source": [
    "#decision tree regressor\n",
    "from sklearn.tree import DecisionTreeRegressor\n",
    "dtree=DecisionTreeRegressor()\n",
    "dtree.fit(X_train,Y_train)"
   ]
  },
  {
   "cell_type": "code",
   "execution_count": 392,
   "metadata": {},
   "outputs": [],
   "source": [
    "pred_DT=dtree.predict(X_test)"
   ]
  },
  {
   "cell_type": "code",
   "execution_count": 393,
   "metadata": {},
   "outputs": [],
   "source": [
    "#random forest regressor\n",
    "from sklearn.ensemble import RandomForestRegressor"
   ]
  },
  {
   "cell_type": "code",
   "execution_count": 394,
   "metadata": {},
   "outputs": [],
   "source": [
    "rfr=RandomForestRegressor(n_estimators=600,random_state=101)\n",
    "rfr.fit(X_train,Y_train)\n",
    "pred_rfr=rfr.predict(X_test)"
   ]
  },
  {
   "cell_type": "code",
   "execution_count": 395,
   "metadata": {},
   "outputs": [],
   "source": [
    "#linear regression\n",
    "from sklearn.linear_model import LinearRegression\n",
    "lr=LinearRegression()\n",
    "lr.fit(X_train,Y_train)\n",
    "pred_lr=lr.predict(X_test)"
   ]
  },
  {
   "cell_type": "code",
   "execution_count": 396,
   "metadata": {
    "scrolled": true
   },
   "outputs": [
    {
     "data": {
      "text/plain": [
       "('Coefficients:\\n',\n",
       " array([ 4.22728041e+03, -2.15773989e+03, -2.92690705e+03, -1.00516470e+17,\n",
       "        -1.00516470e+17, -1.00516470e+17, -1.00516470e+17,  1.87037934e+17,\n",
       "         1.87037934e+17, -2.96874984e+16, -2.96874984e+16, -2.96874984e+16,\n",
       "        -2.96874984e+16, -2.96874984e+16, -2.96874984e+16, -2.96874984e+16,\n",
       "        -2.96874984e+16, -2.96874984e+16, -2.96874984e+16, -2.96874984e+16,\n",
       "        -2.96874984e+16, -2.94176739e+16,  5.21662701e+16,  3.74076364e+16,\n",
       "        -4.41763076e+16, -4.41763076e+16, -4.41763076e+16, -4.41763076e+16,\n",
       "        -4.41763076e+16,  3.74076364e+16, -4.07919720e+16,  4.07919720e+16,\n",
       "         2.75303141e+16,  2.75303141e+16,  2.75303141e+16]))"
      ]
     },
     "execution_count": 396,
     "metadata": {},
     "output_type": "execute_result"
    }
   ],
   "source": [
    "'Coefficients:\\n',lr.coef_"
   ]
  },
  {
   "cell_type": "code",
   "execution_count": 397,
   "metadata": {
    "scrolled": true
   },
   "outputs": [
    {
     "data": {
      "text/plain": [
       "Text(0,0.5,'Predicted Y')"
      ]
     },
     "execution_count": 397,
     "metadata": {},
     "output_type": "execute_result"
    },
    {
     "data": {
      "image/png": "[encoded data removed]",
      "text/plain": [
       "<Figure size 432x288 with 1 Axes>"
      ]
     },
     "metadata": {
      "needs_background": "light"
     },
     "output_type": "display_data"
    }
   ],
   "source": [
    "plt.scatter(Y_test,pred_lr)\n",
    "plt.xlabel('Y Test')\n",
    "plt.ylabel('Predicted Y')"
   ]
  },
  {
   "cell_type": "code",
   "execution_count": 398,
   "metadata": {},
   "outputs": [
    {
     "data": {
      "text/plain": [
       "array([0.48325718, 0.07456132, 0.03164829, 0.02918897, 0.00193675,\n",
       "       0.00060272, 0.03407421, 0.14208828, 0.13116184, 0.00352369,\n",
       "       0.00123671, 0.00206476, 0.00444063, 0.00163337, 0.00139063,\n",
       "       0.00061785, 0.00054915, 0.00338826, 0.0047992 , 0.0005819 ,\n",
       "       0.00323448, 0.00126113, 0.00137055, 0.00487114, 0.00224789,\n",
       "       0.0017434 , 0.00174625, 0.002266  , 0.00153226, 0.00294034,\n",
       "       0.00175176, 0.00183243, 0.00455616, 0.00270378, 0.0131967 ])"
      ]
     },
     "execution_count": 398,
     "metadata": {},
     "output_type": "execute_result"
    }
   ],
   "source": [
    "#predictions with only importaint data\n",
    "rfr.feature_importances_"
   ]
  },
  {
   "cell_type": "code",
   "execution_count": 399,
   "metadata": {},
   "outputs": [
    {
     "data": {
      "text/plain": [
       "Text(0.5,1,'Variable Importances')"
      ]
     },
     "execution_count": 399,
     "metadata": {},
     "output_type": "execute_result"
    },
    {
     "data": {
      "image/png": "[encoded data removed]",
      "text/plain": [
       "<Figure size 432x288 with 1 Axes>"
      ]
     },
     "metadata": {
      "needs_background": "light"
     },
     "output_type": "display_data"
    }
   ],
   "source": [
    "#identifying importaint data\n",
    "feat_importances=pd.Series(rfr.feature_importances_,index=X.columns)\n",
    "feat_importances.nlargest(10).plot(kind='bar')\n",
    "plt.ylabel('Importance')\n",
    "plt.xlabel('Variable')\n",
    "plt.title('Variable Importances')"
   ]
  },
  {
   "cell_type": "code",
   "execution_count": 400,
   "metadata": {},
   "outputs": [],
   "source": [
    "df_imp=df_final[['temp','yr_0','yr_1','hum','season_4','windspeed','season_1','cnt']]"
   ]
  },
  {
   "cell_type": "code",
   "execution_count": 401,
   "metadata": {},
   "outputs": [],
   "source": [
    "Ximp=df_imp.drop('cnt',axis=1)\n",
    "Yimp=df_imp['cnt']"
   ]
  },
  {
   "cell_type": "code",
   "execution_count": 402,
   "metadata": {},
   "outputs": [],
   "source": [
    "#genrating training and testing data from importaint variables\n",
    "Ximp_train,Ximp_test,Yimp_train,Yimp_test=train_test_split(Ximp,Yimp,test_size=0.30,random_state=101)"
   ]
  },
  {
   "cell_type": "code",
   "execution_count": 403,
   "metadata": {},
   "outputs": [
    {
     "data": {
      "text/plain": [
       "DecisionTreeRegressor(criterion='mse', max_depth=None, max_features=None,\n",
       "           max_leaf_nodes=None, min_impurity_decrease=0.0,\n",
       "           min_impurity_split=None, min_samples_leaf=1,\n",
       "           min_samples_split=2, min_weight_fraction_leaf=0.0,\n",
       "           presort=False, random_state=None, splitter='best')"
      ]
     },
     "execution_count": 403,
     "metadata": {},
     "output_type": "execute_result"
    }
   ],
   "source": [
    "#decision tree regressor\n",
    "dtree.fit(Ximp_train,Yimp_train)"
   ]
  },
  {
   "cell_type": "code",
   "execution_count": 404,
   "metadata": {},
   "outputs": [],
   "source": [
    "pred_dtreeimp=dtree.predict(Ximp_test)"
   ]
  },
  {
   "cell_type": "code",
   "execution_count": 405,
   "metadata": {},
   "outputs": [
    {
     "data": {
      "text/plain": [
       "RandomForestRegressor(bootstrap=True, criterion='mse', max_depth=None,\n",
       "           max_features='auto', max_leaf_nodes=None,\n",
       "           min_impurity_decrease=0.0, min_impurity_split=None,\n",
       "           min_samples_leaf=1, min_samples_split=2,\n",
       "           min_weight_fraction_leaf=0.0, n_estimators=600, n_jobs=None,\n",
       "           oob_score=False, random_state=101, verbose=0, warm_start=False)"
      ]
     },
     "execution_count": 405,
     "metadata": {},
     "output_type": "execute_result"
    }
   ],
   "source": [
    "#random forest regressor\n",
    "rfr.fit(Ximp_train,Yimp_train)"
   ]
  },
  {
   "cell_type": "code",
   "execution_count": 406,
   "metadata": {},
   "outputs": [],
   "source": [
    "pred_rfrimp=rfr.predict(Ximp_test)"
   ]
  },
  {
   "cell_type": "code",
   "execution_count": 407,
   "metadata": {},
   "outputs": [
    {
     "data": {
      "text/plain": [
       "LinearRegression(copy_X=True, fit_intercept=True, n_jobs=None,\n",
       "         normalize=False)"
      ]
     },
     "execution_count": 407,
     "metadata": {},
     "output_type": "execute_result"
    }
   ],
   "source": [
    "#linear regression\n",
    "lr.fit(Ximp_train,Yimp_train)"
   ]
  },
  {
   "cell_type": "code",
   "execution_count": 408,
   "metadata": {},
   "outputs": [],
   "source": [
    "pred_lrimp=lr.predict(Ximp_test)"
   ]
  },
  {
   "cell_type": "code",
   "execution_count": 409,
   "metadata": {},
   "outputs": [
    {
     "data": {
      "text/plain": [
       "array([ 4927.71336156,  -985.400836  ,   985.400836  , -3245.62156274,\n",
       "         554.31515488, -3568.78050967, -1143.11318765])"
      ]
     },
     "execution_count": 409,
     "metadata": {},
     "output_type": "execute_result"
    }
   ],
   "source": [
    "lr.coef_"
   ]
  },
  {
   "cell_type": "code",
   "execution_count": 410,
   "metadata": {},
   "outputs": [
    {
     "data": {
      "text/plain": [
       "<matplotlib.collections.PathCollection at 0x1a0db450>"
      ]
     },
     "execution_count": 410,
     "metadata": {},
     "output_type": "execute_result"
    },
    {
     "data": {
      "image/png": "[encoded data removed]",
      "text/plain": [
       "<Figure size 432x288 with 1 Axes>"
      ]
     },
     "metadata": {
      "needs_background": "light"
     },
     "output_type": "display_data"
    }
   ],
   "source": [
    "plt.scatter(Yimp_test,pred_lrimp)"
   ]
  },
  {
   "cell_type": "code",
   "execution_count": 411,
   "metadata": {},
   "outputs": [],
   "source": [
    "#model accuracy calculation\n",
    "#MAPE score\n",
    "def MAPE(Y_test,pred_DT):\n",
    "    mape=np.mean(np.abs((Y_test-pred_DT)/Y_test)*100)\n",
    "    return mape"
   ]
  },
  {
   "cell_type": "code",
   "execution_count": 412,
   "metadata": {},
   "outputs": [
    {
     "data": {
      "text/plain": [
       "22.206486169504743"
      ]
     },
     "execution_count": 412,
     "metadata": {},
     "output_type": "execute_result"
    }
   ],
   "source": [
    "#MAPE score for original data\n",
    "#Descion tree MAPE score\n",
    "MAPE(Y_test,pred_DT)"
   ]
  },
  {
   "cell_type": "code",
   "execution_count": 413,
   "metadata": {},
   "outputs": [
    {
     "data": {
      "text/plain": [
       "15.885944239508088"
      ]
     },
     "execution_count": 413,
     "metadata": {},
     "output_type": "execute_result"
    }
   ],
   "source": [
    "#Random forest MAPE score\n",
    "MAPE(Y_test,pred_rfr)"
   ]
  },
  {
   "cell_type": "code",
   "execution_count": 414,
   "metadata": {},
   "outputs": [
    {
     "data": {
      "text/plain": [
       "17.452249892191084"
      ]
     },
     "execution_count": 414,
     "metadata": {},
     "output_type": "execute_result"
    }
   ],
   "source": [
    "#LInear regression MAPE score\n",
    "MAPE(Y_test,pred_lr)"
   ]
  },
  {
   "cell_type": "code",
   "execution_count": 415,
   "metadata": {},
   "outputs": [
    {
     "data": {
      "text/plain": [
       "24.070748167091523"
      ]
     },
     "execution_count": 415,
     "metadata": {},
     "output_type": "execute_result"
    }
   ],
   "source": [
    "#MAPE score with only importaint data\n",
    "#Descion tree MAPE score\n",
    "MAPE(Yimp_test,pred_dtreeimp)"
   ]
  },
  {
   "cell_type": "code",
   "execution_count": 416,
   "metadata": {},
   "outputs": [
    {
     "data": {
      "text/plain": [
       "16.703319987643056"
      ]
     },
     "execution_count": 416,
     "metadata": {},
     "output_type": "execute_result"
    }
   ],
   "source": [
    "#Random Forest MAPE score\n",
    "MAPE(Yimp_test,pred_rfrimp)"
   ]
  },
  {
   "cell_type": "code",
   "execution_count": 417,
   "metadata": {},
   "outputs": [
    {
     "data": {
      "text/plain": [
       "19.05302108074179"
      ]
     },
     "execution_count": 417,
     "metadata": {},
     "output_type": "execute_result"
    }
   ],
   "source": [
    "#Linear Regression MAPE score\n",
    "MAPE(Yimp_test,pred_lrimp)"
   ]
  },
  {
   "cell_type": "code",
   "execution_count": 418,
   "metadata": {},
   "outputs": [],
   "source": [
    "#r2 score\n",
    "from sklearn.metrics import r2_score"
   ]
  },
  {
   "cell_type": "code",
   "execution_count": 419,
   "metadata": {},
   "outputs": [
    {
     "data": {
      "text/plain": [
       "0.7406193739084777"
      ]
     },
     "execution_count": 419,
     "metadata": {},
     "output_type": "execute_result"
    }
   ],
   "source": [
    "#r2 score for original data\n",
    "#Desicion tree\n",
    "r2_score(Y_test,pred_DT)"
   ]
  },
  {
   "cell_type": "code",
   "execution_count": 420,
   "metadata": {},
   "outputs": [
    {
     "data": {
      "text/plain": [
       "0.8836187675662355"
      ]
     },
     "execution_count": 420,
     "metadata": {},
     "output_type": "execute_result"
    }
   ],
   "source": [
    "#Random Forest\n",
    "r2_score(Y_test,pred_rfr)"
   ]
  },
  {
   "cell_type": "code",
   "execution_count": 421,
   "metadata": {},
   "outputs": [
    {
     "data": {
      "text/plain": [
       "0.8243214630530094"
      ]
     },
     "execution_count": 421,
     "metadata": {},
     "output_type": "execute_result"
    }
   ],
   "source": [
    "#linear Regression\n",
    "r2_score(Y_test,pred_lr)"
   ]
  },
  {
   "cell_type": "code",
   "execution_count": 422,
   "metadata": {},
   "outputs": [
    {
     "data": {
      "text/plain": [
       "0.7339289747569537"
      ]
     },
     "execution_count": 422,
     "metadata": {},
     "output_type": "execute_result"
    }
   ],
   "source": [
    "#r2 score for importaint data\n",
    "#Descion tree\n",
    "r2_score(Yimp_test,pred_dtreeimp)"
   ]
  },
  {
   "cell_type": "code",
   "execution_count": 423,
   "metadata": {},
   "outputs": [
    {
     "data": {
      "text/plain": [
       "0.8691371494243503"
      ]
     },
     "execution_count": 423,
     "metadata": {},
     "output_type": "execute_result"
    }
   ],
   "source": [
    "#Random Forest\n",
    "r2_score(Yimp_test,pred_rfrimp)"
   ]
  },
  {
   "cell_type": "code",
   "execution_count": 424,
   "metadata": {},
   "outputs": [
    {
     "data": {
      "text/plain": [
       "0.8111219360098425"
      ]
     },
     "execution_count": 424,
     "metadata": {},
     "output_type": "execute_result"
    }
   ],
   "source": [
    "#Linear Regression\n",
    "r2_score(Yimp_test,pred_lrimp)"
   ]
  },
  {
   "cell_type": "code",
   "execution_count": 425,
   "metadata": {},
   "outputs": [
    {
     "data": {
      "text/plain": [
       "Text(0.5,1,'Residual plot')"
      ]
     },
     "execution_count": 425,
     "metadata": {},
     "output_type": "execute_result"
    },
    {
     "data": {
      "image/png": "[encoded data removed]",
      "text/plain": [
       "<Figure size 432x288 with 1 Axes>"
      ]
     },
     "metadata": {
      "needs_background": "light"
     },
     "output_type": "display_data"
    }
   ],
   "source": [
    "#Residual Plots\n",
    "sns.distplot((Yimp_test-pred_rfrimp),bins=50)\n",
    "plt.title('Residual plot')"
   ]
  },
  {
   "cell_type": "code",
   "execution_count": 426,
   "metadata": {
    "scrolled": true
   },
   "outputs": [
    {
     "data": {
      "text/plain": [
       "<matplotlib.axes._subplots.AxesSubplot at 0x1ac4d190>"
      ]
     },
     "execution_count": 426,
     "metadata": {},
     "output_type": "execute_result"
    },
    {
     "data": {
      "image/png": "[encoded data removed]",
      "text/plain": [
       "<Figure size 432x288 with 1 Axes>"
      ]
     },
     "metadata": {
      "needs_background": "light"
     },
     "output_type": "display_data"
    }
   ],
   "source": [
    "sns.residplot((Yimp_test-pred_rfrimp),pred_rfrimp)"
   ]
  },
  {
   "cell_type": "code",
   "execution_count": 427,
   "metadata": {},
   "outputs": [],
   "source": [
    "#predicted output saving as excel file\n",
    "predicted_output=pd.DataFrame(pred_rfrimp.round(0))"
   ]
  },
  {
   "cell_type": "code",
   "execution_count": 428,
   "metadata": {},
   "outputs": [],
   "source": [
    "predicted_output.rename(columns={0:'Predicted_cnt'},inplace=True)"
   ]
  },
  {
   "cell_type": "code",
   "execution_count": 429,
   "metadata": {},
   "outputs": [
    {
     "data": {
      "text/html": [
       "<div>\n",
       "<style scoped>\n",
       "    .dataframe tbody tr th:only-of-type {\n",
       "        vertical-align: middle;\n",
       "    }\n",
       "\n",
       "    .dataframe tbody tr th {\n",
       "        vertical-align: top;\n",
       "    }\n",
       "\n",
       "    .dataframe thead th {\n",
       "        text-align: right;\n",
       "    }\n",
       "</style>\n",
       "<table border=\"1\" class=\"dataframe\">\n",
       "  <thead>\n",
       "    <tr style=\"text-align: right;\">\n",
       "      <th></th>\n",
       "      <th>Predicted_cnt</th>\n",
       "    </tr>\n",
       "  </thead>\n",
       "  <tbody>\n",
       "    <tr>\n",
       "      <th>0</th>\n",
       "      <td>6377.0</td>\n",
       "    </tr>\n",
       "    <tr>\n",
       "      <th>1</th>\n",
       "      <td>7000.0</td>\n",
       "    </tr>\n",
       "    <tr>\n",
       "      <th>2</th>\n",
       "      <td>2936.0</td>\n",
       "    </tr>\n",
       "    <tr>\n",
       "      <th>3</th>\n",
       "      <td>3539.0</td>\n",
       "    </tr>\n",
       "    <tr>\n",
       "      <th>4</th>\n",
       "      <td>6536.0</td>\n",
       "    </tr>\n",
       "  </tbody>\n",
       "</table>\n",
       "</div>"
      ],
      "text/plain": [
       "   Predicted_cnt\n",
       "0         6377.0\n",
       "1         7000.0\n",
       "2         2936.0\n",
       "3         3539.0\n",
       "4         6536.0"
      ]
     },
     "execution_count": 429,
     "metadata": {},
     "output_type": "execute_result"
    }
   ],
   "source": [
    "predicted_output.head()"
   ]
  },
  {
   "cell_type": "code",
   "execution_count": 430,
   "metadata": {},
   "outputs": [],
   "source": [
    "predicted_output.reset_index(0,inplace=True)"
   ]
  },
  {
   "cell_type": "code",
   "execution_count": 431,
   "metadata": {},
   "outputs": [],
   "source": [
    "Yimp_test_df=pd.DataFrame(Yimp_test)"
   ]
  },
  {
   "cell_type": "code",
   "execution_count": 432,
   "metadata": {},
   "outputs": [
    {
     "data": {
      "text/html": [
       "<div>\n",
       "<style scoped>\n",
       "    .dataframe tbody tr th:only-of-type {\n",
       "        vertical-align: middle;\n",
       "    }\n",
       "\n",
       "    .dataframe tbody tr th {\n",
       "        vertical-align: top;\n",
       "    }\n",
       "\n",
       "    .dataframe thead th {\n",
       "        text-align: right;\n",
       "    }\n",
       "</style>\n",
       "<table border=\"1\" class=\"dataframe\">\n",
       "  <thead>\n",
       "    <tr style=\"text-align: right;\">\n",
       "      <th></th>\n",
       "      <th>cnt</th>\n",
       "    </tr>\n",
       "  </thead>\n",
       "  <tbody>\n",
       "    <tr>\n",
       "      <th>458</th>\n",
       "      <td>6772</td>\n",
       "    </tr>\n",
       "    <tr>\n",
       "      <th>604</th>\n",
       "      <td>6917</td>\n",
       "    </tr>\n",
       "    <tr>\n",
       "      <th>378</th>\n",
       "      <td>2493</td>\n",
       "    </tr>\n",
       "    <tr>\n",
       "      <th>391</th>\n",
       "      <td>3456</td>\n",
       "    </tr>\n",
       "    <tr>\n",
       "      <th>625</th>\n",
       "      <td>6869</td>\n",
       "    </tr>\n",
       "  </tbody>\n",
       "</table>\n",
       "</div>"
      ],
      "text/plain": [
       "      cnt\n",
       "458  6772\n",
       "604  6917\n",
       "378  2493\n",
       "391  3456\n",
       "625  6869"
      ]
     },
     "execution_count": 432,
     "metadata": {},
     "output_type": "execute_result"
    }
   ],
   "source": [
    "Yimp_test_df.head()"
   ]
  },
  {
   "cell_type": "code",
   "execution_count": 433,
   "metadata": {},
   "outputs": [],
   "source": [
    "input_df_bike_cnt=Ximp_test.join(Yimp_test_df,how='inner')"
   ]
  },
  {
   "cell_type": "code",
   "execution_count": 434,
   "metadata": {},
   "outputs": [
    {
     "data": {
      "text/html": [
       "<div>\n",
       "<style scoped>\n",
       "    .dataframe tbody tr th:only-of-type {\n",
       "        vertical-align: middle;\n",
       "    }\n",
       "\n",
       "    .dataframe tbody tr th {\n",
       "        vertical-align: top;\n",
       "    }\n",
       "\n",
       "    .dataframe thead th {\n",
       "        text-align: right;\n",
       "    }\n",
       "</style>\n",
       "<table border=\"1\" class=\"dataframe\">\n",
       "  <thead>\n",
       "    <tr style=\"text-align: right;\">\n",
       "      <th></th>\n",
       "      <th>temp</th>\n",
       "      <th>yr_0</th>\n",
       "      <th>yr_1</th>\n",
       "      <th>hum</th>\n",
       "      <th>season_4</th>\n",
       "      <th>windspeed</th>\n",
       "      <th>season_1</th>\n",
       "      <th>cnt</th>\n",
       "    </tr>\n",
       "  </thead>\n",
       "  <tbody>\n",
       "    <tr>\n",
       "      <th>458</th>\n",
       "      <td>0.466667</td>\n",
       "      <td>0</td>\n",
       "      <td>1</td>\n",
       "      <td>0.396667</td>\n",
       "      <td>0</td>\n",
       "      <td>0.100133</td>\n",
       "      <td>0</td>\n",
       "      <td>6772</td>\n",
       "    </tr>\n",
       "    <tr>\n",
       "      <th>604</th>\n",
       "      <td>0.703333</td>\n",
       "      <td>0</td>\n",
       "      <td>1</td>\n",
       "      <td>0.730417</td>\n",
       "      <td>0</td>\n",
       "      <td>0.128733</td>\n",
       "      <td>0</td>\n",
       "      <td>6917</td>\n",
       "    </tr>\n",
       "    <tr>\n",
       "      <th>378</th>\n",
       "      <td>0.180000</td>\n",
       "      <td>0</td>\n",
       "      <td>1</td>\n",
       "      <td>0.457500</td>\n",
       "      <td>0</td>\n",
       "      <td>0.187183</td>\n",
       "      <td>1</td>\n",
       "      <td>2493</td>\n",
       "    </tr>\n",
       "    <tr>\n",
       "      <th>391</th>\n",
       "      <td>0.425000</td>\n",
       "      <td>0</td>\n",
       "      <td>1</td>\n",
       "      <td>0.741250</td>\n",
       "      <td>0</td>\n",
       "      <td>0.342667</td>\n",
       "      <td>1</td>\n",
       "      <td>3456</td>\n",
       "    </tr>\n",
       "    <tr>\n",
       "      <th>625</th>\n",
       "      <td>0.580833</td>\n",
       "      <td>0</td>\n",
       "      <td>1</td>\n",
       "      <td>0.734583</td>\n",
       "      <td>0</td>\n",
       "      <td>0.151742</td>\n",
       "      <td>0</td>\n",
       "      <td>6869</td>\n",
       "    </tr>\n",
       "  </tbody>\n",
       "</table>\n",
       "</div>"
      ],
      "text/plain": [
       "         temp  yr_0  yr_1       hum  season_4  windspeed  season_1   cnt\n",
       "458  0.466667     0     1  0.396667         0   0.100133         0  6772\n",
       "604  0.703333     0     1  0.730417         0   0.128733         0  6917\n",
       "378  0.180000     0     1  0.457500         0   0.187183         1  2493\n",
       "391  0.425000     0     1  0.741250         0   0.342667         1  3456\n",
       "625  0.580833     0     1  0.734583         0   0.151742         0  6869"
      ]
     },
     "execution_count": 434,
     "metadata": {},
     "output_type": "execute_result"
    }
   ],
   "source": [
    "input_df_bike_cnt.head()"
   ]
  },
  {
   "cell_type": "code",
   "execution_count": 435,
   "metadata": {},
   "outputs": [],
   "source": [
    "input_df_bike_cnt.reset_index(0,inplace=True)"
   ]
  },
  {
   "cell_type": "code",
   "execution_count": 436,
   "metadata": {},
   "outputs": [
    {
     "data": {
      "text/html": [
       "<div>\n",
       "<style scoped>\n",
       "    .dataframe tbody tr th:only-of-type {\n",
       "        vertical-align: middle;\n",
       "    }\n",
       "\n",
       "    .dataframe tbody tr th {\n",
       "        vertical-align: top;\n",
       "    }\n",
       "\n",
       "    .dataframe thead th {\n",
       "        text-align: right;\n",
       "    }\n",
       "</style>\n",
       "<table border=\"1\" class=\"dataframe\">\n",
       "  <thead>\n",
       "    <tr style=\"text-align: right;\">\n",
       "      <th></th>\n",
       "      <th>index</th>\n",
       "      <th>temp</th>\n",
       "      <th>yr_0</th>\n",
       "      <th>yr_1</th>\n",
       "      <th>hum</th>\n",
       "      <th>season_4</th>\n",
       "      <th>windspeed</th>\n",
       "      <th>season_1</th>\n",
       "      <th>cnt</th>\n",
       "    </tr>\n",
       "  </thead>\n",
       "  <tbody>\n",
       "    <tr>\n",
       "      <th>0</th>\n",
       "      <td>458</td>\n",
       "      <td>0.466667</td>\n",
       "      <td>0</td>\n",
       "      <td>1</td>\n",
       "      <td>0.396667</td>\n",
       "      <td>0</td>\n",
       "      <td>0.100133</td>\n",
       "      <td>0</td>\n",
       "      <td>6772</td>\n",
       "    </tr>\n",
       "    <tr>\n",
       "      <th>1</th>\n",
       "      <td>604</td>\n",
       "      <td>0.703333</td>\n",
       "      <td>0</td>\n",
       "      <td>1</td>\n",
       "      <td>0.730417</td>\n",
       "      <td>0</td>\n",
       "      <td>0.128733</td>\n",
       "      <td>0</td>\n",
       "      <td>6917</td>\n",
       "    </tr>\n",
       "    <tr>\n",
       "      <th>2</th>\n",
       "      <td>378</td>\n",
       "      <td>0.180000</td>\n",
       "      <td>0</td>\n",
       "      <td>1</td>\n",
       "      <td>0.457500</td>\n",
       "      <td>0</td>\n",
       "      <td>0.187183</td>\n",
       "      <td>1</td>\n",
       "      <td>2493</td>\n",
       "    </tr>\n",
       "    <tr>\n",
       "      <th>3</th>\n",
       "      <td>391</td>\n",
       "      <td>0.425000</td>\n",
       "      <td>0</td>\n",
       "      <td>1</td>\n",
       "      <td>0.741250</td>\n",
       "      <td>0</td>\n",
       "      <td>0.342667</td>\n",
       "      <td>1</td>\n",
       "      <td>3456</td>\n",
       "    </tr>\n",
       "    <tr>\n",
       "      <th>4</th>\n",
       "      <td>625</td>\n",
       "      <td>0.580833</td>\n",
       "      <td>0</td>\n",
       "      <td>1</td>\n",
       "      <td>0.734583</td>\n",
       "      <td>0</td>\n",
       "      <td>0.151742</td>\n",
       "      <td>0</td>\n",
       "      <td>6869</td>\n",
       "    </tr>\n",
       "  </tbody>\n",
       "</table>\n",
       "</div>"
      ],
      "text/plain": [
       "   index      temp  yr_0  yr_1       hum  season_4  windspeed  season_1   cnt\n",
       "0    458  0.466667     0     1  0.396667         0   0.100133         0  6772\n",
       "1    604  0.703333     0     1  0.730417         0   0.128733         0  6917\n",
       "2    378  0.180000     0     1  0.457500         0   0.187183         1  2493\n",
       "3    391  0.425000     0     1  0.741250         0   0.342667         1  3456\n",
       "4    625  0.580833     0     1  0.734583         0   0.151742         0  6869"
      ]
     },
     "execution_count": 436,
     "metadata": {},
     "output_type": "execute_result"
    }
   ],
   "source": [
    "input_df_bike_cnt.head()"
   ]
  },
  {
   "cell_type": "code",
   "execution_count": 437,
   "metadata": {},
   "outputs": [],
   "source": [
    "sample_output=input_df_bike_cnt.join(predicted_output,how='inner',lsuffix='_left',rsuffix='_right')"
   ]
  },
  {
   "cell_type": "code",
   "execution_count": 438,
   "metadata": {},
   "outputs": [],
   "source": [
    "sample_output.drop(['index_left','index_right'],axis=1,inplace=True)"
   ]
  },
  {
   "cell_type": "code",
   "execution_count": 439,
   "metadata": {},
   "outputs": [
    {
     "data": {
      "text/html": [
       "<div>\n",
       "<style scoped>\n",
       "    .dataframe tbody tr th:only-of-type {\n",
       "        vertical-align: middle;\n",
       "    }\n",
       "\n",
       "    .dataframe tbody tr th {\n",
       "        vertical-align: top;\n",
       "    }\n",
       "\n",
       "    .dataframe thead th {\n",
       "        text-align: right;\n",
       "    }\n",
       "</style>\n",
       "<table border=\"1\" class=\"dataframe\">\n",
       "  <thead>\n",
       "    <tr style=\"text-align: right;\">\n",
       "      <th></th>\n",
       "      <th>temp</th>\n",
       "      <th>yr_0</th>\n",
       "      <th>yr_1</th>\n",
       "      <th>hum</th>\n",
       "      <th>season_4</th>\n",
       "      <th>windspeed</th>\n",
       "      <th>season_1</th>\n",
       "      <th>cnt</th>\n",
       "      <th>Predicted_cnt</th>\n",
       "    </tr>\n",
       "  </thead>\n",
       "  <tbody>\n",
       "    <tr>\n",
       "      <th>0</th>\n",
       "      <td>0.466667</td>\n",
       "      <td>0</td>\n",
       "      <td>1</td>\n",
       "      <td>0.396667</td>\n",
       "      <td>0</td>\n",
       "      <td>0.100133</td>\n",
       "      <td>0</td>\n",
       "      <td>6772</td>\n",
       "      <td>6377.0</td>\n",
       "    </tr>\n",
       "    <tr>\n",
       "      <th>1</th>\n",
       "      <td>0.703333</td>\n",
       "      <td>0</td>\n",
       "      <td>1</td>\n",
       "      <td>0.730417</td>\n",
       "      <td>0</td>\n",
       "      <td>0.128733</td>\n",
       "      <td>0</td>\n",
       "      <td>6917</td>\n",
       "      <td>7000.0</td>\n",
       "    </tr>\n",
       "    <tr>\n",
       "      <th>2</th>\n",
       "      <td>0.180000</td>\n",
       "      <td>0</td>\n",
       "      <td>1</td>\n",
       "      <td>0.457500</td>\n",
       "      <td>0</td>\n",
       "      <td>0.187183</td>\n",
       "      <td>1</td>\n",
       "      <td>2493</td>\n",
       "      <td>2936.0</td>\n",
       "    </tr>\n",
       "    <tr>\n",
       "      <th>3</th>\n",
       "      <td>0.425000</td>\n",
       "      <td>0</td>\n",
       "      <td>1</td>\n",
       "      <td>0.741250</td>\n",
       "      <td>0</td>\n",
       "      <td>0.342667</td>\n",
       "      <td>1</td>\n",
       "      <td>3456</td>\n",
       "      <td>3539.0</td>\n",
       "    </tr>\n",
       "    <tr>\n",
       "      <th>4</th>\n",
       "      <td>0.580833</td>\n",
       "      <td>0</td>\n",
       "      <td>1</td>\n",
       "      <td>0.734583</td>\n",
       "      <td>0</td>\n",
       "      <td>0.151742</td>\n",
       "      <td>0</td>\n",
       "      <td>6869</td>\n",
       "      <td>6536.0</td>\n",
       "    </tr>\n",
       "  </tbody>\n",
       "</table>\n",
       "</div>"
      ],
      "text/plain": [
       "       temp  yr_0  yr_1       hum  season_4  windspeed  season_1   cnt  \\\n",
       "0  0.466667     0     1  0.396667         0   0.100133         0  6772   \n",
       "1  0.703333     0     1  0.730417         0   0.128733         0  6917   \n",
       "2  0.180000     0     1  0.457500         0   0.187183         1  2493   \n",
       "3  0.425000     0     1  0.741250         0   0.342667         1  3456   \n",
       "4  0.580833     0     1  0.734583         0   0.151742         0  6869   \n",
       "\n",
       "   Predicted_cnt  \n",
       "0         6377.0  \n",
       "1         7000.0  \n",
       "2         2936.0  \n",
       "3         3539.0  \n",
       "4         6536.0  "
      ]
     },
     "execution_count": 439,
     "metadata": {},
     "output_type": "execute_result"
    }
   ],
   "source": [
    "sample_output.head()"
   ]
  },
  {
   "cell_type": "code",
   "execution_count": 440,
   "metadata": {},
   "outputs": [],
   "source": [
    "sample_output.to_excel('sample output final.xlsx',index=False)"
   ]
  }
 ],
 "metadata": {
  "kernelspec": {
   "display_name": "Python 2",
   "language": "python",
   "name": "python2"
  },
  "language_info": {
   "codemirror_mode": {
    "name": "ipython",
    "version": 2
   },
   "file_extension": ".py",
   "mimetype": "text/x-python",
   "name": "python",
   "nbconvert_exporter": "python",
   "pygments_lexer": "ipython2",
   "version": "2.7.16"
  }
 },
 "nbformat": 4,
 "nbformat_minor": 2
}
